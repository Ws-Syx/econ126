{
 "cells": [
  {
   "cell_type": "code",
   "execution_count": 1,
   "metadata": {},
   "outputs": [],
   "source": [
    "import numpy as np\n",
    "import matplotlib.pyplot as plt\n",
    "plt.style.use('classic')\n",
    "%matplotlib inline"
   ]
  },
  {
   "cell_type": "markdown",
   "metadata": {},
   "source": [
    "# Class 5: Managing Data with Pandas \n",
    "\n",
    "Pandas is a Python library for managing datasets. Documentation and examples are available on the website for Pandas: http://pandas.pydata.org/. \n",
    "\n",
    "In this Notebook, we'll make use of a dataset containing long-run averages of inflation, money growth, and real GDP. The dataset is available here: https://www.briancjenkins.com/data/csv/qtyTheoryData.csv (Python code to generate the dataset: https://github.com/letsgoexploring/economic-data). Recall that the quantity theory of money implies the following linear relationship between the long-run rate of money growth, the long-run rate of inflation, and the long-run rate of real GDP growth in a country:\n",
    "\n",
    "\\begin{align}\n",
    "\\text{inflation} & = \\text{money growth} - \\text{real GDP growth},\n",
    "\\end{align}\n",
    "\n",
    "Generally, we treat real GDP growth and money supply growth as exogenous so this is a theory about the determination of inflation."
   ]
  },
  {
   "cell_type": "markdown",
   "metadata": {},
   "source": [
    "### Import Pandas"
   ]
  },
  {
   "cell_type": "code",
   "execution_count": 2,
   "metadata": {},
   "outputs": [],
   "source": [
    "import pandas as pd"
   ]
  },
  {
   "cell_type": "markdown",
   "metadata": {},
   "source": [
    "### Import data from a csv file\n",
    "\n",
    "Pandas has a function called `read_csv()` for reading data from a csv file into a Pandas `DataFrame` object."
   ]
  },
  {
   "cell_type": "code",
   "execution_count": 3,
   "metadata": {},
   "outputs": [],
   "source": [
    "# Import quantity theory data into a Pandas DataFrame called 'df' with country names as the index.\n",
    "\n",
    "# Directly from internet\n",
    "df = pd.read_csv('https://raw.githubusercontent.com/letsgoexploring/economic-data/master/quantity-theory/csv/quantity_theory_data.csv')\n",
    "\n",
    "# From current working directory\n",
    "# df = pd.read_csv('qtyTheoryData.csv')"
   ]
  },
  {
   "cell_type": "code",
   "execution_count": 4,
   "metadata": {},
   "outputs": [
    {
     "name": "stdout",
     "output_type": "stream",
     "text": [
      "               country iso code  observations  inflation  money growth  \\\n",
      "0              Albania      ALB            21    0.05453       0.12879   \n",
      "1              Algeria      DZA            51    0.10913       0.16370   \n",
      "2               Angola      AGO            20    0.88679       1.08457   \n",
      "3  Antigua and Barbuda      ATG            38    0.04052       0.09903   \n",
      "4            Argentina      ARG            54    0.74972       0.79170   \n",
      "\n",
      "   gdp growth  \n",
      "0     0.04829  \n",
      "1     0.03896  \n",
      "2     0.08592  \n",
      "3     0.03673  \n",
      "4     0.02468  \n"
     ]
    }
   ],
   "source": [
    "# Print the first 5 rows\n",
    "print(df.head())"
   ]
  },
  {
   "cell_type": "code",
   "execution_count": 5,
   "metadata": {},
   "outputs": [
    {
     "name": "stdout",
     "output_type": "stream",
     "text": [
      "                  country iso code  observations  inflation  money growth  \\\n",
      "168               Ukraine      UKR            23    0.61867       0.58537   \n",
      "169  United Arab Emirates      ARE            40    0.03659       0.14033   \n",
      "170         United States      USA            54    0.03442       0.05753   \n",
      "171               Uruguay      URY            54    0.37658       0.41383   \n",
      "172               Vanuatu      VUT            36    0.03611       0.08343   \n",
      "173         Venezuela, RB      VEN            53    0.20726       0.27581   \n",
      "174    West Bank and Gaza      PSE            17    0.03864       0.12528   \n",
      "175           Yemen, Rep.      YEM            24    0.14770       0.13852   \n",
      "176                Zambia      ZMB            27    0.22850       0.24470   \n",
      "177              Zimbabwe      ZWE            32   -0.00128      -0.13307   \n",
      "\n",
      "     gdp growth  \n",
      "168    -0.01070  \n",
      "169     0.04811  \n",
      "170     0.03140  \n",
      "171     0.02294  \n",
      "172     0.02972  \n",
      "173     0.02793  \n",
      "174     0.03389  \n",
      "175     0.04008  \n",
      "176     0.01208  \n",
      "177     0.00839  \n"
     ]
    }
   ],
   "source": [
    "# Print the last 10 rows\n",
    "print(df.tail(10))"
   ]
  },
  {
   "cell_type": "code",
   "execution_count": 6,
   "metadata": {},
   "outputs": [
    {
     "name": "stdout",
     "output_type": "stream",
     "text": [
      "<class 'pandas.core.frame.DataFrame'>\n"
     ]
    }
   ],
   "source": [
    "# Print the type of variable 'df'\n",
    "print(type(df))"
   ]
  },
  {
   "cell_type": "markdown",
   "metadata": {},
   "source": [
    "### Properties of `DataFrame` objects\n",
    "\n",
    "Like entries in a spreadsheet file, elements in a `DataFrame` object have row (or *index*) and column coordinates. Column names are always strings. Index elements can be integers, strings, or dates."
   ]
  },
  {
   "cell_type": "code",
   "execution_count": 7,
   "metadata": {},
   "outputs": [
    {
     "name": "stdout",
     "output_type": "stream",
     "text": [
      "Index(['country', 'iso code', 'observations', 'inflation', 'money growth',\n",
      "       'gdp growth'],\n",
      "      dtype='object')\n"
     ]
    }
   ],
   "source": [
    "# Print the columns of df\n",
    "print(df.columns)"
   ]
  },
  {
   "cell_type": "code",
   "execution_count": 8,
   "metadata": {},
   "outputs": [
    {
     "name": "stdout",
     "output_type": "stream",
     "text": [
      "0      0.12879\n",
      "1      0.16370\n",
      "2      1.08457\n",
      "3      0.09903\n",
      "4      0.79170\n",
      "        ...   \n",
      "173    0.27581\n",
      "174    0.12528\n",
      "175    0.13852\n",
      "176    0.24470\n",
      "177   -0.13307\n",
      "Name: money growth, Length: 178, dtype: float64\n"
     ]
    }
   ],
   "source": [
    "# Create a new variable called money equal to the 'money growth' column and print\n",
    "money = df['money growth']\n",
    "print(money)"
   ]
  },
  {
   "cell_type": "code",
   "execution_count": 9,
   "metadata": {},
   "outputs": [
    {
     "name": "stdout",
     "output_type": "stream",
     "text": [
      "<class 'pandas.core.series.Series'>\n"
     ]
    }
   ],
   "source": [
    "# Print the type of the variable money\n",
    "print(type(money))"
   ]
  },
  {
   "cell_type": "markdown",
   "metadata": {},
   "source": [
    "A Pandas `Series` stores one column of data. Like a `DataFrame`, a `Series` object has an index. Note that `money` has the same index as `df`. Instead of having a column, the `Series` has a `name` attribute."
   ]
  },
  {
   "cell_type": "code",
   "execution_count": 10,
   "metadata": {},
   "outputs": [
    {
     "name": "stdout",
     "output_type": "stream",
     "text": [
      "money growth\n"
     ]
    }
   ],
   "source": [
    "# Print the name of the 'money' variable\n",
    "print(money.name)"
   ]
  },
  {
   "cell_type": "markdown",
   "metadata": {},
   "source": [
    "Select multiple columns of a `DataFrame` by puting the desired column names in a set a of square brackets (i.e., in a `list`)."
   ]
  },
  {
   "cell_type": "code",
   "execution_count": 11,
   "metadata": {},
   "outputs": [
    {
     "name": "stdout",
     "output_type": "stream",
     "text": [
      "   inflation  money growth  gdp growth\n",
      "0    0.05453       0.12879     0.04829\n",
      "1    0.10913       0.16370     0.03896\n",
      "2    0.88679       1.08457     0.08592\n",
      "3    0.04052       0.09903     0.03673\n",
      "4    0.74972       0.79170     0.02468\n"
     ]
    }
   ],
   "source": [
    "# Print the first 5 rows of just the inflation, money growth, and gdp growth columns\n",
    "print(df[['inflation','money growth','gdp growth']].head())"
   ]
  },
  {
   "cell_type": "markdown",
   "metadata": {},
   "source": [
    "As mentioned, the set of row coordinates is the index. Unless specified otherwise, Pandas automatically assigns an integer index starting at 0 to rows of the `DataFrame`."
   ]
  },
  {
   "cell_type": "code",
   "execution_count": 12,
   "metadata": {},
   "outputs": [
    {
     "name": "stdout",
     "output_type": "stream",
     "text": [
      "RangeIndex(start=0, stop=178, step=1)\n"
     ]
    }
   ],
   "source": [
    "# Print the index of 'df'\n",
    "print(df.index)"
   ]
  },
  {
   "cell_type": "markdown",
   "metadata": {},
   "source": [
    "Note that in the index of the `df` is the numbers 0 through 177. We could have specified a different index when we imported the data using `read_csv()`. For example, suppose we want to the country names to be the index of `df`. Since country names are in the first column of the data file, we can pass the argument `index_col=0` to `read_csv()`"
   ]
  },
  {
   "cell_type": "code",
   "execution_count": 13,
   "metadata": {},
   "outputs": [
    {
     "name": "stdout",
     "output_type": "stream",
     "text": [
      "                    iso code  observations  inflation  money growth  \\\n",
      "country                                                               \n",
      "Albania                  ALB            21    0.05453       0.12879   \n",
      "Algeria                  DZA            51    0.10913       0.16370   \n",
      "Angola                   AGO            20    0.88679       1.08457   \n",
      "Antigua and Barbuda      ATG            38    0.04052       0.09903   \n",
      "Argentina                ARG            54    0.74972       0.79170   \n",
      "\n",
      "                     gdp growth  \n",
      "country                          \n",
      "Albania                 0.04829  \n",
      "Algeria                 0.03896  \n",
      "Angola                  0.08592  \n",
      "Antigua and Barbuda     0.03673  \n",
      "Argentina               0.02468  \n"
     ]
    }
   ],
   "source": [
    "# Import quantity theory data into a Pandas DataFrame called 'df' with country names as the index.\n",
    "df = pd.read_csv('https://raw.githubusercontent.com/letsgoexploring/economic-data/master/quantity-theory/csv/quantity_theory_data.csv',index_col=0)\n",
    "\n",
    "# Print first 5 rows of df\n",
    "print(df.head())"
   ]
  },
  {
   "cell_type": "markdown",
   "metadata": {},
   "source": [
    "Use the `loc` attribute to select rows of the `DataFrame` by index *values*."
   ]
  },
  {
   "cell_type": "code",
   "execution_count": 14,
   "metadata": {},
   "outputs": [
    {
     "name": "stdout",
     "output_type": "stream",
     "text": [
      "iso code            USA\n",
      "observations         54\n",
      "inflation       0.03442\n",
      "money growth    0.05753\n",
      "gdp growth       0.0314\n",
      "Name: United States, dtype: object\n"
     ]
    }
   ],
   "source": [
    "# Create a new variable called 'df_usa' equal to the 'United States' row and print\n",
    "df_usa = df.loc['United States']\n",
    "print(df_usa)"
   ]
  },
  {
   "cell_type": "markdown",
   "metadata": {},
   "source": [
    "Use `iloc` attribute to select row based on integer location (starting from 0)."
   ]
  },
  {
   "cell_type": "code",
   "execution_count": 15,
   "metadata": {},
   "outputs": [
    {
     "name": "stdout",
     "output_type": "stream",
     "text": [
      "iso code            AGO\n",
      "observations         20\n",
      "inflation       0.88679\n",
      "money growth    1.08457\n",
      "gdp growth      0.08592\n",
      "Name: Angola, dtype: object\n"
     ]
    }
   ],
   "source": [
    "# Create a new variable called 'df_third' equal to the third row in the DataFrame and print\n",
    "df_first = df.iloc[2]\n",
    "print(df_first)"
   ]
  },
  {
   "cell_type": "markdown",
   "metadata": {},
   "source": [
    "There are several ways to return a single element of a Pandas `DataFrame`. For example, here are three that we want to return the value of inflation for the United States from the DataFrame `df`:\n",
    "\n",
    "1. `df.loc['United States','inflation']`\n",
    "2. `df.loc['United States']['inflation']`\n",
    "3. `df['inflation'].loc['United States']`\n",
    "\n",
    "The first method points directly to the element in the `df` while the second and third methods return *copies* of the element. That means that you can modify the value of inflation for the United States by running:\n",
    "\n",
    "    df.loc['United States','inflation'] = new_value\n",
    "    \n",
    "But running either:\n",
    "\n",
    "    df.loc['United States']['inflation'] = new_value\n",
    "    \n",
    "or:\n",
    "\n",
    "    df['inflation'].loc['United States'] = new_value\n",
    "\n",
    "will return an error."
   ]
  },
  {
   "cell_type": "code",
   "execution_count": 16,
   "metadata": {},
   "outputs": [
    {
     "name": "stdout",
     "output_type": "stream",
     "text": [
      "Long-run average inflation in US:  0.03442\n"
     ]
    }
   ],
   "source": [
    "# Print the inflation rate of the United States  (By index and column together)\n",
    "print('Long-run average inflation in US: ',df.loc['United States','inflation'])"
   ]
  },
  {
   "cell_type": "code",
   "execution_count": 17,
   "metadata": {},
   "outputs": [
    {
     "name": "stdout",
     "output_type": "stream",
     "text": [
      "Long-run average inflation in US:  0.03442\n"
     ]
    }
   ],
   "source": [
    "# Print the inflation rate of the United States (first by index, then by column)\n",
    "print('Long-run average inflation in US: ',df.loc['United States']['inflation'])"
   ]
  },
  {
   "cell_type": "code",
   "execution_count": 18,
   "metadata": {},
   "outputs": [
    {
     "name": "stdout",
     "output_type": "stream",
     "text": [
      "Long-run average inflation in US:  0.03442\n"
     ]
    }
   ],
   "source": [
    "# Print the inflation rate of the United States  (first by column, then by index)\n",
    "print('Long-run average inflation in US: ',df['inflation'].loc['United States'])"
   ]
  },
  {
   "cell_type": "markdown",
   "metadata": {},
   "source": [
    "New columns are easily created as functions of existing columns."
   ]
  },
  {
   "cell_type": "code",
   "execution_count": 19,
   "metadata": {},
   "outputs": [
    {
     "name": "stdout",
     "output_type": "stream",
     "text": [
      "country\n",
      "Albania                0.07426\n",
      "Algeria                0.05457\n",
      "Angola                 0.19778\n",
      "Antigua and Barbuda    0.05851\n",
      "Argentina              0.04198\n",
      "                        ...   \n",
      "Venezuela, RB          0.06855\n",
      "West Bank and Gaza     0.08664\n",
      "Yemen, Rep.           -0.00918\n",
      "Zambia                 0.01620\n",
      "Zimbabwe              -0.13179\n",
      "Name: difference, Length: 178, dtype: float64\n"
     ]
    }
   ],
   "source": [
    "# Create a new column called 'difference' equal to the money growth column minus \n",
    "# the inflation column and print the modified DataFrame\n",
    "df['difference'] = df['money growth'] - df['inflation']\n",
    "print(df['difference'])"
   ]
  },
  {
   "cell_type": "code",
   "execution_count": 20,
   "metadata": {},
   "outputs": [
    {
     "name": "stdout",
     "output_type": "stream",
     "text": [
      "0.06339837078651682\n"
     ]
    }
   ],
   "source": [
    "# Print the average difference between money growth and inflation\n",
    "print(df.difference.mean())"
   ]
  },
  {
   "cell_type": "code",
   "execution_count": 21,
   "metadata": {},
   "outputs": [
    {
     "name": "stdout",
     "output_type": "stream",
     "text": [
      "                    iso code  inflation  money growth  gdp growth\n",
      "country                                                          \n",
      "Albania                  ALB    0.05453       0.12879     0.04829\n",
      "Algeria                  DZA    0.10913       0.16370     0.03896\n",
      "Angola                   AGO    0.88679       1.08457     0.08592\n",
      "Antigua and Barbuda      ATG    0.04052       0.09903     0.03673\n",
      "Argentina                ARG    0.74972       0.79170     0.02468\n",
      "...                      ...        ...           ...         ...\n",
      "Venezuela, RB            VEN    0.20726       0.27581     0.02793\n",
      "West Bank and Gaza       PSE    0.03864       0.12528     0.03389\n",
      "Yemen, Rep.              YEM    0.14770       0.13852     0.04008\n",
      "Zambia                   ZMB    0.22850       0.24470     0.01208\n",
      "Zimbabwe                 ZWE   -0.00128      -0.13307     0.00839\n",
      "\n",
      "[178 rows x 4 columns]\n"
     ]
    }
   ],
   "source": [
    "# Remove the following columns from the DataFrame: 'iso code','observations','difference'\n",
    "df = df.drop(['observations','difference'],axis=1)\n",
    "\n",
    "# Print the modified DataFrame\n",
    "print(df)"
   ]
  },
  {
   "cell_type": "markdown",
   "metadata": {},
   "source": [
    "### Methods\n",
    "\n",
    "A Pandas `DataFrame` has a bunch of useful methods defined for it. `describe()` returns some summary statistics."
   ]
  },
  {
   "cell_type": "code",
   "execution_count": 22,
   "metadata": {},
   "outputs": [
    {
     "name": "stdout",
     "output_type": "stream",
     "text": [
      "        inflation  money growth  gdp growth\n",
      "count  178.000000    178.000000  178.000000\n",
      "mean     0.128568      0.191966    0.037594\n",
      "std      0.172497      0.170733    0.022616\n",
      "min     -0.001280     -0.133070   -0.025240\n",
      "25%      0.042493      0.102785    0.024382\n",
      "50%      0.070050      0.140935    0.037745\n",
      "75%      0.132060      0.210498    0.048245\n",
      "max      1.277050      1.224430    0.165480\n"
     ]
    }
   ],
   "source": [
    "# Print the summary statistics for 'df'\n",
    "print(df.describe())"
   ]
  },
  {
   "cell_type": "markdown",
   "metadata": {},
   "source": [
    "The `corr()` method returns a `DataFrame` containing the correlation coefficients of the specified `DataFrame`."
   ]
  },
  {
   "cell_type": "code",
   "execution_count": 23,
   "metadata": {},
   "outputs": [
    {
     "name": "stdout",
     "output_type": "stream",
     "text": [
      "              inflation  money growth  gdp growth\n",
      "inflation      1.000000      0.971200   -0.041515\n",
      "money growth   0.971200      1.000000    0.088061\n",
      "gdp growth    -0.041515      0.088061    1.000000\n"
     ]
    }
   ],
   "source": [
    "# Create a variable called 'correlations' containg the correlation coefficients for columns in 'df'\n",
    "correlations = df.corr()\n",
    "\n",
    "# Print the correlation coefficients\n",
    "print(correlations)"
   ]
  },
  {
   "cell_type": "code",
   "execution_count": 24,
   "metadata": {},
   "outputs": [
    {
     "name": "stdout",
     "output_type": "stream",
     "text": [
      "corr of inflation and money growth:  0.9712\n",
      "corr of inflation and gdp growth:    -0.0415\n",
      "corr of money growth and gdp growth: 0.0881\n"
     ]
    }
   ],
   "source": [
    "# Print the correlation coefficient for inflation and money growth\n",
    "print('corr of inflation and money growth: ',round(correlations.loc['inflation','money growth'],4))\n",
    "\n",
    "# Print the correlation coefficient for inflation and real GDP growth\n",
    "print('corr of inflation and gdp growth:   ',round(correlations.loc['inflation','gdp growth'],4))\n",
    "\n",
    "# Print the correlation coefficient for money growth and real GDP growth\n",
    "print('corr of money growth and gdp growth:',round(correlations.loc['money growth','gdp growth'],4))"
   ]
  },
  {
   "cell_type": "markdown",
   "metadata": {},
   "source": [
    "`sort_values()` returns a copy of the original `DataFrame` sorted along the given column. The optional argument `ascending` is set to `True` by default, but can be changed to `False` if you want to print the lowest first."
   ]
  },
  {
   "cell_type": "code",
   "execution_count": 25,
   "metadata": {
    "scrolled": false
   },
   "outputs": [
    {
     "name": "stdout",
     "output_type": "stream",
     "text": [
      "                     iso code  inflation  money growth  gdp growth\n",
      "country                                                           \n",
      "Zimbabwe                  ZWE   -0.00128      -0.13307     0.00839\n",
      "Djibouti                  DJI    0.00035       0.07940     0.01683\n",
      "Germany                   DEU    0.01120       0.07852     0.01233\n",
      "Hong Kong SAR, China      HKG    0.01452       0.10295     0.03778\n",
      "Ireland                   IRL    0.01467       0.13223     0.03552\n",
      "France                    FRA    0.01560       0.07038     0.01316\n",
      "Kosovo                    KSV    0.01659       0.09355     0.03622\n",
      "Greece                    GRC    0.01736       0.01533    -0.00487\n",
      "Switzerland               CHE    0.01754       0.06243     0.01750\n",
      "Austria                   AUT    0.01757       0.08010     0.01543\n"
     ]
    }
   ],
   "source": [
    "# Print rows for the countries with the 10 lowest inflation rates\n",
    "print(df.sort_values('inflation').head(10))"
   ]
  },
  {
   "cell_type": "code",
   "execution_count": 26,
   "metadata": {},
   "outputs": [
    {
     "name": "stdout",
     "output_type": "stream",
     "text": [
      "                 iso code  inflation  money growth  gdp growth\n",
      "country                                                       \n",
      "Congo, Dem. Rep.      COD    1.27705       1.22443    -0.00239\n",
      "Brazil                BRA    0.88891       0.92023     0.04208\n",
      "Angola                AGO    0.88679       1.08457     0.08592\n",
      "Argentina             ARG    0.74972       0.79170     0.02468\n",
      "Nicaragua             NIC    0.62762       0.67775     0.02522\n",
      "Belarus               BLR    0.62519       0.65668     0.05171\n",
      "Ukraine               UKR    0.61867       0.58537    -0.01070\n",
      "Peru                  PER    0.48310       0.54905     0.03510\n",
      "Armenia               ARM    0.46680       0.48970     0.05726\n",
      "Azerbaijan            AZE    0.45091       0.52949     0.05724\n"
     ]
    }
   ],
   "source": [
    "# Print rows for the countries with the 10 highest inflation rates\n",
    "print(df.sort_values('inflation',ascending=False).head(10))"
   ]
  },
  {
   "cell_type": "markdown",
   "metadata": {},
   "source": [
    "Note that `sort_values` and `sort_index` return *copies* of the original `DataFrame`. If, in the previous example, we had wanted to actually modify `df`, we would have need to explicitly overwrite it:\n",
    "\n",
    "    df = df.sort_index(ascending=False)"
   ]
  },
  {
   "cell_type": "code",
   "execution_count": 27,
   "metadata": {},
   "outputs": [
    {
     "name": "stdout",
     "output_type": "stream",
     "text": [
      "                     iso code  inflation  money growth  gdp growth\n",
      "country                                                           \n",
      "Zimbabwe                  ZWE   -0.00128      -0.13307     0.00839\n",
      "Zambia                    ZMB    0.22850       0.24470     0.01208\n",
      "Yemen, Rep.               YEM    0.14770       0.13852     0.04008\n",
      "West Bank and Gaza        PSE    0.03864       0.12528     0.03389\n",
      "Venezuela, RB             VEN    0.20726       0.27581     0.02793\n",
      "Vanuatu                   VUT    0.03611       0.08343     0.02972\n",
      "Uruguay                   URY    0.37658       0.41383     0.02294\n",
      "United States             USA    0.03442       0.05753     0.03140\n",
      "United Arab Emirates      ARE    0.03659       0.14033     0.04811\n",
      "Ukraine                   UKR    0.61867       0.58537    -0.01070\n"
     ]
    }
   ],
   "source": [
    "# Print first 10 rows with the index sorted in descending alphabetical order\n",
    "print(df.sort_index(ascending=False).head(10))"
   ]
  },
  {
   "cell_type": "markdown",
   "metadata": {},
   "source": [
    "### Quick plotting example\n",
    "\n",
    "Construct a graph that visually confirms the quantity theory of money by making a scatter plot with average money growth on the horizontal axis and average inflation on the vertical axis. Set the marker size `s` to 50 and opacity (`alpha`) 0.25. Add a 45 degree line, axis labels, and a title. Lower and upper limits for the horizontal and vertical axes should be -0.2 and 1.2."
   ]
  },
  {
   "cell_type": "code",
   "execution_count": 28,
   "metadata": {},
   "outputs": [
    {
     "data": {
      "image/png": "[encoded data removed]",
      "text/plain": [
       "<Figure size 432x288 with 1 Axes>"
      ]
     },
     "metadata": {
      "needs_background": "light"
     },
     "output_type": "display_data"
    }
   ],
   "source": [
    "# Create data for 45 degree line\n",
    "x45 = [-0.2,1.2]\n",
    "y45 = [-0.2,1.2]\n",
    "\n",
    "# Create figure and axis\n",
    "fig = plt.figure()\n",
    "ax = fig.add_subplot(1,1,1)\n",
    "\n",
    "# Plot 45 degree line and create legend in lower right corner\n",
    "ax.plot(x45,y45,'-r',label = '$45^{\\circ}$')\n",
    "ax.legend(loc='lower right')\n",
    "\n",
    "# Scatter plot of data inflation against money growth\n",
    "ax.scatter(df['money growth'],df['inflation'],s=50,alpha = 0.25)\n",
    "ax.set_xlim([-0.2,1.2])\n",
    "ax.set_ylim([-0.2,1.2])\n",
    "ax.set_xlabel('money growth')\n",
    "ax.set_ylabel('inflation')\n",
    "ax.set_title('Average inflation against average money growth \\nfor '+str(len(df.index))+' countries.')\n",
    "ax.grid()"
   ]
  },
  {
   "cell_type": "markdown",
   "metadata": {},
   "source": [
    "### Exporting a `DataFrame` to csv\n",
    "\n",
    "Use the DataFrame method `to_csv()` to export DataFrame to a csv file."
   ]
  },
  {
   "cell_type": "code",
   "execution_count": 29,
   "metadata": {},
   "outputs": [],
   "source": [
    "# Export the DataFrame 'df' to a csv file called 'modified_data.csv'.\n",
    "df.to_csv('modified_data.csv')"
   ]
  }
 ],
 "metadata": {
  "anaconda-cloud": {},
  "kernelspec": {
   "display_name": "Python 3",
   "language": "python",
   "name": "python3"
  },
  "language_info": {
   "codemirror_mode": {
    "name": "ipython",
    "version": 3
   },
   "file_extension": ".py",
   "mimetype": "text/x-python",
   "name": "python",
   "nbconvert_exporter": "python",
   "pygments_lexer": "ipython3",
   "version": "3.7.4"
  }
 },
 "nbformat": 4,
 "nbformat_minor": 1
}
