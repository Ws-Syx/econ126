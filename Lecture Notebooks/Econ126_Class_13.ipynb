{
 "cells": [
  {
   "cell_type": "code",
   "execution_count": 1,
   "metadata": {},
   "outputs": [],
   "source": [
    "import numpy as np\n",
    "import pandas as pd\n",
    "import linearsolve as ls\n",
    "import matplotlib.pyplot as plt\n",
    "plt.style.use('classic')\n",
    "%matplotlib inline"
   ]
  },
  {
   "cell_type": "markdown",
   "metadata": {},
   "source": [
    "# Class 13: Introduction to Real Business Cycle Modeling\n",
    "\n",
    "Real business cycle (RBC) models are extensions of the stochastic Solow model. RBC models replace the ad hoc assumption of a constant saving rate in the Solow model with the solution to an intertemporal utility maximization problem that gives rise to a variable saving rate. RBC models also often feature some sort of household labor-leisure tradeoff that produces endogenous labor varation.\n",
    "\n",
    "In this notebook, we'll consider a baseline RBC model that does not have labor. We'll use the model to compute impulse responses to a one percent shock to TFP."
   ]
  },
  {
   "cell_type": "markdown",
   "metadata": {},
   "source": [
    "## The Baseline RBC Model without Labor\n",
    "\n",
    "The equilibrium conditions for the RBC model without labor are:\n",
    "\n",
    "\\begin{align}\n",
    "\\frac{1}{C_t} & = \\beta E_t \\left[\\frac{\\alpha A_{t+1}K_{t+1}^{\\alpha-1} +1-\\delta }{C_{t+1}}\\right]\\\\\n",
    "K_{t+1} & = I_t + (1-\\delta) K_t\\\\\n",
    "Y_t & = A_t K_t^{\\alpha}\\\\\n",
    "Y_t & = C_t + I_t\\\\\n",
    "\\log A_{t+1} & = \\rho \\log A_t + \\epsilon_{t+1}\n",
    "\\end{align}\n",
    "\n",
    "where $\\epsilon_{t+1} \\sim \\mathcal{N}(0,\\sigma^2)$. \n",
    "\n",
    "The objective is use `linearsolve` to simulate impulse responses to a TFP shock using the following parameter values for the simulation:\n",
    "\n",
    "| $\\rho$ | $\\sigma$ | $\\beta$ | $\\alpha$ | $\\delta $ | $T$ |\n",
    "|--------|----------|---------|----------|-----------|-----|\n",
    "| 0.75   | 0.006    | 0.99    | 0.35     |  0.025    | 26  |"
   ]
  },
  {
   "cell_type": "markdown",
   "metadata": {},
   "source": [
    "## Model Preparation\n",
    "\n",
    "Before proceding, let's recast the model in the form required for `linearsolve`. Write the model with all variables moved to the lefthand side of the equations and dropping the expecations operator $E_t$ and the exogenous shock $\\epsilon_{t+1}$:\n",
    "\n",
    "\\begin{align}\n",
    "0 & = \\beta\\left[\\frac{\\alpha A_{t+1}K_{t+1}^{\\alpha-1} +1-\\delta }{C_{t+1}}\\right] - \\frac{1}{C_t}\\\\\n",
    "0 & = A_t K_t^{\\alpha} - Y_t\\\\\n",
    "0 & = I_t + (1-\\delta) K_t - K_{t+1}\\\\\n",
    "0 & = C_t + I_t - Y_t\\\\\n",
    "0 & = \\rho \\log A_t - \\log A_{t+1}\n",
    "\\end{align}\n",
    "\n",
    "Remember, capital and TFP are called *state variables* because they're $t+1$ values are predetermined. Output, consumption, and investment are called a *costate* or *control* variables. Note that the model as 5 equations in 5 endogenous variables.\n",
    "\n"
   ]
  },
  {
   "cell_type": "markdown",
   "metadata": {},
   "source": [
    "## Initialization, Approximation, and Solution\n",
    "\n",
    "The next several cells initialize the model in `linearsolve` and then approximate and solve it."
   ]
  },
  {
   "cell_type": "code",
   "execution_count": 2,
   "metadata": {},
   "outputs": [
    {
     "name": "stdout",
     "output_type": "stream",
     "text": [
      "rho      0.750\n",
      "beta     0.990\n",
      "alpha    0.350\n",
      "delta    0.025\n",
      "dtype: float64\n"
     ]
    }
   ],
   "source": [
    "# Create a variable called 'parameters' that stores the model parameter values in a Pandas Series\n",
    "parameters = pd.Series()\n",
    "parameters['rho'] = .75\n",
    "parameters['beta'] = 0.99\n",
    "parameters['alpha'] = 0.35\n",
    "parameters['delta'] = 0.025\n",
    "\n",
    "# Print the model's parameters\n",
    "print(parameters)"
   ]
  },
  {
   "cell_type": "code",
   "execution_count": 3,
   "metadata": {},
   "outputs": [],
   "source": [
    "# Create a variable called 'sigma' that stores the value of sigma\n",
    "sigma = 0.006"
   ]
  },
  {
   "cell_type": "code",
   "execution_count": 4,
   "metadata": {},
   "outputs": [],
   "source": [
    "# Create variable called 'var_names' that stores the variable names in a list with state variables ordered first\n",
    "var_names = ['a','k','y','c','i']\n",
    "\n",
    "# Create variable called 'shock_names' that stores an exogenous shock name for each state variable.\n",
    "shock_names = ['e_a','e_k']"
   ]
  },
  {
   "cell_type": "code",
   "execution_count": 5,
   "metadata": {},
   "outputs": [],
   "source": [
    "# Define a function that evaluates the equilibrium conditions of the model solved for zero. PROVIDED\n",
    "def equilibrium_equations(variables_forward,variables_current,parameters):\n",
    "    \n",
    "    # Parameters. PROVIDED\n",
    "    p = parameters\n",
    "    \n",
    "    # Current variables. PROVIDED\n",
    "    cur = variables_current\n",
    "    \n",
    "    # Forward variables. PROVIDED\n",
    "    fwd = variables_forward\n",
    "\n",
    "    # Euler equation\n",
    "    euler_equation = p.beta*(p.alpha*fwd.a*fwd.k**(p.alpha-1)+1-p.delta)/fwd.c - 1/cur.c\n",
    "    \n",
    "    # Production function\n",
    "    production_function = cur.a*cur.k**p.alpha - cur.y\n",
    "    \n",
    "    # Capital evolution\n",
    "    capital_evolution = cur.i + (1 - p.delta)*cur.k - fwd.k\n",
    "    \n",
    "    # Market clearing\n",
    "    market_clearing = cur.c+cur.i - cur.y\n",
    "    \n",
    "    # Exogenous tfp\n",
    "    tfp_process = p.rho*np.log(cur.a) - np.log(fwd.a)\n",
    "    \n",
    "    \n",
    "    # Stack equilibrium conditions into a numpy array\n",
    "    return np.array([\n",
    "        euler_equation,\n",
    "        production_function,\n",
    "        capital_evolution,\n",
    "        market_clearing,\n",
    "        tfp_process\n",
    "        ])"
   ]
  },
  {
   "cell_type": "markdown",
   "metadata": {},
   "source": [
    "Next, initialize the model using `ls.model` which takes the following required arguments:\n",
    "\n",
    "* `equations`\n",
    "* `n_states`\n",
    "* `var_names`\n",
    "* `shock_names`\n",
    "* `parameters`"
   ]
  },
  {
   "cell_type": "code",
   "execution_count": 6,
   "metadata": {},
   "outputs": [],
   "source": [
    "# Initialize the model into a variable named 'rbc_model'\n",
    "rbc_model = ls.model(equations = equilibrium_equations,\n",
    "                 n_states=2,\n",
    "                 var_names=var_names,\n",
    "                 shock_names=shock_names,\n",
    "                 parameters=parameters)"
   ]
  },
  {
   "cell_type": "code",
   "execution_count": 7,
   "metadata": {
    "scrolled": true
   },
   "outputs": [
    {
     "name": "stdout",
     "output_type": "stream",
     "text": [
      "a     1.000000\n",
      "k    34.398226\n",
      "y     3.449750\n",
      "c     2.589794\n",
      "i     0.859956\n",
      "dtype: float64\n"
     ]
    }
   ],
   "source": [
    "# Compute the steady state numerically using .compute_ss() method of rbc_model\n",
    "guess = [1,4,1,1,1]\n",
    "rbc_model.compute_ss(guess)\n",
    "\n",
    "# Print the computed steady state\n",
    "print(rbc_model.ss)"
   ]
  },
  {
   "cell_type": "code",
   "execution_count": 8,
   "metadata": {},
   "outputs": [],
   "source": [
    "# Find the log-linear approximation around the non-stochastic steady state and solve using .approximate_and_solve() method of rbc_model\n",
    "rbc_model.approximate_and_solve()"
   ]
  },
  {
   "cell_type": "markdown",
   "metadata": {},
   "source": [
    "### Impulse Responses\n",
    "\n",
    "Compute a 26 period impulse responses of the model's variables to a 0.01 unit shock to TFP in period 5."
   ]
  },
  {
   "cell_type": "code",
   "execution_count": 9,
   "metadata": {},
   "outputs": [
    {
     "name": "stdout",
     "output_type": "stream",
     "text": [
      "    e_a         a         k         y         c         i\n",
      "0  0.00  0.000000  0.000000  0.000000  0.000000  0.000000\n",
      "1  0.00  0.000000  0.000000  0.000000  0.000000  0.000000\n",
      "2  0.00  0.000000  0.000000  0.000000  0.000000  0.000000\n",
      "3  0.00  0.000000  0.000000  0.000000  0.000000  0.000000\n",
      "4  0.00  0.000000  0.000000  0.000000  0.000000  0.000000\n",
      "5  0.01  0.010000  0.000000  0.010000  0.001253  0.036342\n",
      "6  0.00  0.007500  0.000909  0.007818  0.001493  0.026865\n",
      "7  0.00  0.005625  0.001557  0.006170  0.001654  0.019772\n",
      "8  0.00  0.004219  0.002013  0.004923  0.001755  0.014465\n",
      "9  0.00  0.003164  0.002324  0.003978  0.001812  0.010499\n"
     ]
    }
   ],
   "source": [
    "# Compute impulse responses\n",
    "rbc_model.impulse(T=26,t0=5,shocks=[0.01,0])\n",
    "\n",
    "# Print the first 10 rows of the computed impulse responses to the TFP shock\n",
    "print(rbc_model.irs['e_a'].head(10))"
   ]
  },
  {
   "cell_type": "markdown",
   "metadata": {},
   "source": [
    "Construct a $2\\times2$ grid of plots of simulated TFP, output, consumption, and investment. Be sure to multiply simulated values by 100 so that vertical axis units are in \"percent deviation from steady state.\""
   ]
  },
  {
   "cell_type": "code",
   "execution_count": 10,
   "metadata": {},
   "outputs": [
    {
     "data": {
      "image/png": "[encoded data removed]",
      "text/plain": [
       "<Figure size 864x576 with 4 Axes>"
      ]
     },
     "metadata": {
      "needs_background": "light"
     },
     "output_type": "display_data"
    }
   ],
   "source": [
    "# Create figure. PROVIDED\n",
    "fig = plt.figure(figsize=(12,8))\n",
    "\n",
    "# Create upper-left axis. PROVIDED\n",
    "ax = fig.add_subplot(2,2,1)\n",
    "ax.plot(rbc_model.irs['e_a']['a']*100,'b',lw=5,alpha=0.75)\n",
    "ax.set_title('TFP')\n",
    "ax.set_ylabel('% dev from steady state')\n",
    "ax.set_ylim([-0.2,1.2])\n",
    "ax.grid()\n",
    "\n",
    "# Create upper-right axis. PROVIDED\n",
    "ax = fig.add_subplot(2,2,2)\n",
    "ax.plot(rbc_model.irs['e_a']['y']*100,'b',lw=5,alpha=0.75)\n",
    "ax.set_title('Output')\n",
    "ax.set_ylabel('% dev from steady state')\n",
    "ax.set_ylim([-0.2,1.2])\n",
    "ax.grid()\n",
    "\n",
    "# Create lower-left axis. PROVIDED\n",
    "ax = fig.add_subplot(2,2,3)\n",
    "ax.plot(rbc_model.irs['e_a']['c']*100,'b',lw=5,alpha=0.75)\n",
    "ax.set_title('Consumption')\n",
    "ax.set_ylabel('% dev from steady state')\n",
    "ax.set_ylim([-0.05,0.30])\n",
    "ax.grid()\n",
    "\n",
    "# Create lower-right axis. PROVIDED\n",
    "ax = fig.add_subplot(2,2,4)\n",
    "ax.plot(rbc_model.irs['e_a']['i']*100,'b',lw=5,alpha=0.75)\n",
    "ax.set_title('Investment')\n",
    "ax.set_ylabel('% dev from steady state')\n",
    "ax.set_ylim([-1,6])\n",
    "ax.grid()\n",
    "\n",
    "fig.tight_layout()"
   ]
  }
 ],
 "metadata": {
  "anaconda-cloud": {},
  "kernelspec": {
   "display_name": "Python 3",
   "language": "python",
   "name": "python3"
  },
  "language_info": {
   "codemirror_mode": {
    "name": "ipython",
    "version": 3
   },
   "file_extension": ".py",
   "mimetype": "text/x-python",
   "name": "python",
   "nbconvert_exporter": "python",
   "pygments_lexer": "ipython3",
   "version": "3.7.4"
  }
 },
 "nbformat": 4,
 "nbformat_minor": 1
}
