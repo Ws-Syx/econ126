{
 "cells": [
  {
   "cell_type": "code",
   "execution_count": 1,
   "metadata": {},
   "outputs": [],
   "source": [
    "import numpy as np\n",
    "import matplotlib.pyplot as plt\n",
    "plt.style.use('classic')\n",
    "%matplotlib inline"
   ]
  },
  {
   "cell_type": "markdown",
   "metadata": {},
   "source": [
    "# Discussion: Week 3"
   ]
  },
  {
   "cell_type": "code",
   "execution_count": 2,
   "metadata": {},
   "outputs": [],
   "source": [
    "# Import the Pandas module as pd\n",
    "import pandas as pd"
   ]
  },
  {
   "cell_type": "markdown",
   "metadata": {},
   "source": [
    "\n",
    "## Exercise: Statistics on Cross-Country Income per Capita\n",
    "\n",
    "Objectives:\n",
    "\n",
    "1. Import and manage cross-country GDP per capita data\n",
    "2. Construct plots using imported data\n",
    "\n",
    "For this exercise, we'll make use of a file called `crossCountryIncomePerCapita.csv` from: https://raw.githubusercontent.com/letsgoexploring/economic-data/master/cross-country-income/csv/cross_country_income_per_capita.csv (Python code to generate the dataset: https://github.com/letsgoexploring/economic-data)."
   ]
  },
  {
   "cell_type": "markdown",
   "metadata": {},
   "source": [
    "### Part (a): Import Data and Inspect the `DataFrame`\n",
    "\n",
    "In the first part of the exercise, you will import the dataset and use some basic Pandas operations to explore some properties of the `DataFrame` that you create. The csv file that you import has years in the leftmost column (i.e., pass `index_col=0` to `pd.read_csv`). Pass the optional argument `parse_dates=True` to `pd.read_csv()` so that Pandas interprets the year numbers as dates. This is handy for graphing, among other things."
   ]
  },
  {
   "cell_type": "code",
   "execution_count": 3,
   "metadata": {},
   "outputs": [
    {
     "name": "stdout",
     "output_type": "stream",
     "text": [
      "            Argentina - ARG  Australia - AUS  Austria - AUT  Burundi - BDI  \\\n",
      "year                                                                         \n",
      "1960-01-01       2852.36814      14469.70763     9373.30809      623.95226   \n",
      "1961-01-01       2948.91414      14408.61680     9881.99860      527.68664   \n",
      "1962-01-01       2763.65938      14922.77997    10101.58860      560.87956   \n",
      "1963-01-01       2686.87439      15869.71131    10463.35528      566.32799   \n",
      "1964-01-01       2816.49064      16249.47678    10890.84552      566.04350   \n",
      "\n",
      "            Belgium - BEL  Benin - BEN  Burkina Faso - BFA  Bangladesh - BGD  \\\n",
      "year                                                                           \n",
      "1960-01-01    10373.94836   1428.41037           659.39167        1496.44287   \n",
      "1961-01-01    10770.04477   1434.82911           646.34152        1477.21858   \n",
      "1962-01-01    11239.29355   1351.50983           694.97138        1541.77356   \n",
      "1963-01-01    11513.83833   1381.32620           665.26670        1591.97316   \n",
      "1964-01-01    12247.57153   1428.18158           691.70135        1546.18152   \n",
      "\n",
      "            Bolivia (Plurinational State of) - BOL  Brazil - BRA  ...  \\\n",
      "year                                                              ...   \n",
      "1960-01-01                              1340.08963    2114.45055  ...   \n",
      "1961-01-01                              1386.64183    2320.56909  ...   \n",
      "1962-01-01                              1397.90469    2396.05966  ...   \n",
      "1963-01-01                              1450.12845    2471.38763  ...   \n",
      "1964-01-01                              1529.21612    2521.16315  ...   \n",
      "\n",
      "            Turkey - TUR  Taiwan - TWN  U.R. of Tanzania: Mainland - TZA  \\\n",
      "year                                                                       \n",
      "1960-01-01    4624.18197    2276.99908                        1147.96537   \n",
      "1961-01-01    4573.01325    2371.10111                        1159.69650   \n",
      "1962-01-01    4717.80616    2514.06609                        1245.54338   \n",
      "1963-01-01    5030.63943    2755.43831                        1319.55114   \n",
      "1964-01-01    5115.33160    3019.56870                        1469.05997   \n",
      "\n",
      "            Uganda - UGA  Uruguay - URY  United States - USA  \\\n",
      "year                                                           \n",
      "1960-01-01     792.12389     6996.49759          17591.95693   \n",
      "1961-01-01     786.75514     7040.27076          17738.84036   \n",
      "1962-01-01     783.42638     7091.98015          18500.73556   \n",
      "1963-01-01     788.12637     6777.95552          18992.99633   \n",
      "1964-01-01     875.07167     6965.96123          19791.67712   \n",
      "\n",
      "            Venezuela (Bolivarian Republic of) - VEN  South Africa - ZAF  \\\n",
      "year                                                                       \n",
      "1960-01-01                                6781.02552          5610.38100   \n",
      "1961-01-01                                6652.70916          5678.20244   \n",
      "1962-01-01                                6694.82822          5738.95538   \n",
      "1963-01-01                                6881.45615          5967.08908   \n",
      "1964-01-01                                7352.75943          6217.37816   \n",
      "\n",
      "            Zambia - ZMB  Zimbabwe - ZWE  \n",
      "year                                      \n",
      "1960-01-01    2511.57179      1944.50385  \n",
      "1961-01-01    2402.17923      1997.18201  \n",
      "1962-01-01    2291.58317      1918.29353  \n",
      "1963-01-01    2350.90044      1896.39552  \n",
      "1964-01-01    2666.82258      1784.85682  \n",
      "\n",
      "[5 rows x 111 columns]\n"
     ]
    }
   ],
   "source": [
    "# Import the cross-country GDP data into a DataFrame called 'income_df' with arguments index_col=0 and parse_dates=True\n",
    "income_df = pd.read_csv('https://raw.githubusercontent.com/letsgoexploring/economic-data/master/cross-country-income/csv/cross_country_income_per_capita.csv',index_col=0,parse_dates=True)\n",
    "\n",
    "# Print the first five rows of income_df\n",
    "print(income_df.head())"
   ]
  },
  {
   "cell_type": "code",
   "execution_count": 4,
   "metadata": {
    "scrolled": true
   },
   "outputs": [
    {
     "name": "stdout",
     "output_type": "stream",
     "text": [
      "Index(['Argentina - ARG', 'Australia - AUS', 'Austria - AUT', 'Burundi - BDI',\n",
      "       'Belgium - BEL', 'Benin - BEN', 'Burkina Faso - BFA',\n",
      "       'Bangladesh - BGD', 'Bolivia (Plurinational State of) - BOL',\n",
      "       'Brazil - BRA',\n",
      "       ...\n",
      "       'Turkey - TUR', 'Taiwan - TWN', 'U.R. of Tanzania: Mainland - TZA',\n",
      "       'Uganda - UGA', 'Uruguay - URY', 'United States - USA',\n",
      "       'Venezuela (Bolivarian Republic of) - VEN', 'South Africa - ZAF',\n",
      "       'Zambia - ZMB', 'Zimbabwe - ZWE'],\n",
      "      dtype='object', length=111)\n"
     ]
    }
   ],
   "source": [
    "# Print the columns attribute of income_df\n",
    "print(income_df.columns)"
   ]
  },
  {
   "cell_type": "markdown",
   "metadata": {},
   "source": [
    "The `len()` function is a built-in Python function for determining the length of objects that can be iterated upon (e.g., lists, strings, NumPy arrays). For example, the following code creates a variable `x` equal to a four-element list and prints the length of `x`:\n",
    "\n",
    "    x = [1,2,3,4]\n",
    "    print(len(x))\n",
    "    \n",
    "The code will print a value of 4 to the screen."
   ]
  },
  {
   "cell_type": "code",
   "execution_count": 5,
   "metadata": {},
   "outputs": [
    {
     "name": "stdout",
     "output_type": "stream",
     "text": [
      "111\n"
     ]
    }
   ],
   "source": [
    "# Print the number of countries in income_df (i.e., print the length of income_df.columns)\n",
    "print(len(income_df.columns))"
   ]
  },
  {
   "cell_type": "code",
   "execution_count": 6,
   "metadata": {},
   "outputs": [
    {
     "name": "stdout",
     "output_type": "stream",
     "text": [
      "DatetimeIndex(['1960-01-01', '1961-01-01', '1962-01-01', '1963-01-01',\n",
      "               '1964-01-01', '1965-01-01', '1966-01-01', '1967-01-01',\n",
      "               '1968-01-01', '1969-01-01', '1970-01-01', '1971-01-01',\n",
      "               '1972-01-01', '1973-01-01', '1974-01-01', '1975-01-01',\n",
      "               '1976-01-01', '1977-01-01', '1978-01-01', '1979-01-01',\n",
      "               '1980-01-01', '1981-01-01', '1982-01-01', '1983-01-01',\n",
      "               '1984-01-01', '1985-01-01', '1986-01-01', '1987-01-01',\n",
      "               '1988-01-01', '1989-01-01', '1990-01-01', '1991-01-01',\n",
      "               '1992-01-01', '1993-01-01', '1994-01-01', '1995-01-01',\n",
      "               '1996-01-01', '1997-01-01', '1998-01-01', '1999-01-01',\n",
      "               '2000-01-01', '2001-01-01', '2002-01-01', '2003-01-01',\n",
      "               '2004-01-01', '2005-01-01', '2006-01-01', '2007-01-01',\n",
      "               '2008-01-01', '2009-01-01', '2010-01-01', '2011-01-01',\n",
      "               '2012-01-01', '2013-01-01', '2014-01-01', '2015-01-01',\n",
      "               '2016-01-01', '2017-01-01'],\n",
      "              dtype='datetime64[ns]', name='year', freq=None)\n"
     ]
    }
   ],
   "source": [
    "# Print the index attribute of income_df\n",
    "print(income_df.index)"
   ]
  },
  {
   "cell_type": "code",
   "execution_count": 7,
   "metadata": {},
   "outputs": [
    {
     "name": "stdout",
     "output_type": "stream",
     "text": [
      "58\n"
     ]
    }
   ],
   "source": [
    "# Print the number of years of data in income_df (i.e., print the length of income_df.index)\n",
    "print(len(income_df.index))"
   ]
  },
  {
   "cell_type": "code",
   "execution_count": 8,
   "metadata": {},
   "outputs": [
    {
     "name": "stdout",
     "output_type": "stream",
     "text": [
      "year\n",
      "1960-01-01    17591.95693\n",
      "1961-01-01    17738.84036\n",
      "1962-01-01    18500.73556\n",
      "1963-01-01    18992.99633\n",
      "1964-01-01    19791.67712\n",
      "Name: United States - USA, dtype: float64\n"
     ]
    }
   ],
   "source": [
    "# Print the first five rows of the 'United States - USA' column of income_df\n",
    "print(income_df['United States - USA'].head())"
   ]
  },
  {
   "cell_type": "code",
   "execution_count": 9,
   "metadata": {},
   "outputs": [
    {
     "name": "stdout",
     "output_type": "stream",
     "text": [
      "year\n",
      "2013-01-01    51563.37099\n",
      "2014-01-01    52630.54634\n",
      "2015-01-01    53888.95945\n",
      "2016-01-01    54309.26173\n",
      "2017-01-01    55256.73778\n",
      "Name: United States - USA, dtype: float64\n"
     ]
    }
   ],
   "source": [
    "# Print the last five rows of the 'United States - USA' column of income_df\n",
    "print(income_df['United States - USA'].tail())"
   ]
  },
  {
   "cell_type": "code",
   "execution_count": 10,
   "metadata": {},
   "outputs": [
    {
     "name": "stdout",
     "output_type": "stream",
     "text": [
      "GDP per capital for the US in 2017: 55257\n"
     ]
    }
   ],
   "source": [
    "# Print the last value in the 'United States - USA' column of income_df\n",
    "print('GDP per capital for the US in '+str(income_df.index[-1])[:4]+':',round(income_df.iloc[-1]['United States - USA']))"
   ]
  },
  {
   "cell_type": "markdown",
   "metadata": {},
   "source": [
    "### Part (b): Construct Two Plots"
   ]
  },
  {
   "cell_type": "code",
   "execution_count": 11,
   "metadata": {},
   "outputs": [
    {
     "data": {
      "image/png": "[encoded data removed]",
      "text/plain": [
       "<Figure size 432x288 with 1 Axes>"
      ]
     },
     "metadata": {
      "needs_background": "light"
     },
     "output_type": "display_data"
    }
   ],
   "source": [
    "# Create a line plot of gdp per capita for the US with income_df.index as the x-axis coordinates with:\n",
    "#     1. Set linewidth to 3 and opacity (alpha) to 0.75\n",
    "#     2. Set y-axis label to 'Dollars'\n",
    "#     3. Set title to 'GDP per capita: United States')\n",
    "#     4. Add a grid if you want to\n",
    "plt.plot(income_df.index,income_df['United States - USA'],lw=3,alpha = 0.75)\n",
    "plt.ylabel('Dollars')\n",
    "plt.title('GDP per capita: United States')\n",
    "plt.grid()"
   ]
  },
  {
   "cell_type": "markdown",
   "metadata": {},
   "source": [
    "You can use the `DataFrame` method `filter()` to exclude columns or rows that *don't* match specified criteria. This is useful for searching over columns (or rows) if you're not sure about the contents. For example, suppose that we want to select the column for Equatorial Guinea from `income_df`, but we're not sure what the abbreviation is. We can run:\n",
    "\n",
    "    income_df.filter(like='Guinea').columns\n",
    "    \n",
    "which returns:\n",
    "\n",
    "    Index(['Guinea - GIN', 'Guinea-Bissau - GNB', 'Equatorial Guinea - GNQ'], dtype='object')\n",
    "    \n",
    "So now it's apparent that `'Equatorial Guinea - GNQ'` is the name of the column with data for Equatorial Guinea."
   ]
  },
  {
   "cell_type": "code",
   "execution_count": 12,
   "metadata": {},
   "outputs": [
    {
     "name": "stdout",
     "output_type": "stream",
     "text": [
      "Bolivia (Plurinational State of) - BOL\n"
     ]
    }
   ],
   "source": [
    "# Use the example described above to find the column name for any country you like\n",
    "country = income_df.filter(like='Bolivia').columns.values[0]\n",
    "print(country)"
   ]
  },
  {
   "cell_type": "code",
   "execution_count": 13,
   "metadata": {},
   "outputs": [
    {
     "data": {
      "image/png": "[encoded data removed]",
      "text/plain": [
       "<Figure size 432x288 with 1 Axes>"
      ]
     },
     "metadata": {
      "needs_background": "light"
     },
     "output_type": "display_data"
    }
   ],
   "source": [
    "# Create a line plot of gdp per capita for the country that you picked wtih income_df.index as the x-axis coordinates and:\n",
    "#     1. Set linewidth to 3 and opacity (alpha) to 0.75\n",
    "#     2. Set y-axis label to 'Dollars'\n",
    "#     3. Set title to 'GDP per capita: COUNTRY NAME')\n",
    "#     4. Add a grid if you want to\n",
    "plt.plot(income_df.index,income_df[country],lw=3,alpha = 0.75)\n",
    "plt.ylabel('Dollars')\n",
    "plt.title('GDP per capita: '+country.split(\" \")[0])\n",
    "plt.grid()"
   ]
  },
  {
   "cell_type": "markdown",
   "metadata": {},
   "source": [
    "**Question**\n",
    "\n",
    "1. Describe in words any similarities and/or differences you see between the paths of GDP per capita in the US and GDP per capita in the country that you picked."
   ]
  },
  {
   "cell_type": "markdown",
   "metadata": {},
   "source": [
    "**Answer**\n",
    "\n",
    "1. Over the entire data range, the GDP per capita of Bolivia is at least an order of magnitude lower than the GDP per capita of the US. However, beginning in the early 2000s, growth in GDP per capita in Bolivia accelerated substantially and this was not mirrored in the US data.<!-- answer -->"
   ]
  }
 ],
 "metadata": {
  "anaconda-cloud": {},
  "kernelspec": {
   "display_name": "Python 3",
   "language": "python",
   "name": "python3"
  },
  "language_info": {
   "codemirror_mode": {
    "name": "ipython",
    "version": 3
   },
   "file_extension": ".py",
   "mimetype": "text/x-python",
   "name": "python",
   "nbconvert_exporter": "python",
   "pygments_lexer": "ipython3",
   "version": "3.8.5"
  }
 },
 "nbformat": 4,
 "nbformat_minor": 1
}
