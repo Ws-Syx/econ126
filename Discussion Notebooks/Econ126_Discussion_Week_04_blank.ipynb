{
    "cells": [
        {
            "cell_type": "code",
            "execution_count": null,
            "metadata": {},
            "outputs": [],
            "source": [
                "import numpy as np\n",
                "import pandas as pd\n",
                "import matplotlib.pyplot as plt\n",
                "plt.style.use('classic')\n",
                "\n",
                "pd.plotting.register_matplotlib_converters()\n",
                "%matplotlib inline"
            ]
        },
        {
            "cell_type": "markdown",
            "metadata": {},
            "source": [
                "# Discussion: Week 4"
            ]
        },
        {
            "cell_type": "markdown",
            "metadata": {},
            "source": [
                "## Exercise: The Perpetual Inventory Method\n",
                "\n",
                "The stock of physical capital is a fundamental component of many macroeconomic models but measuring, and therefore acquiring data on, the value of a country's capital stock is hard. The challenge arise because it is hard to estimate the value of something that is not changing ownership in a transaction. What is value of a high-rise apartment building that has had the same owner for 50 years?\n",
                "\n",
                "One way to overcome this challenge is to use the **perpetual inventory method**. The perpetual inventory method is based on the law of motion of the capital stock:\n",
                "\n",
                "\\begin{align}\n",
                "K_{t+1} & = I_t + (1-\\delta) K_t\n",
                "\\end{align}\n",
                "\n",
                "where $K_t$ denotes physical capital, $I_t$ denotes investment (purchases of new capital), and $\\delta$ denotes the rate of depreciation. Give $K_0$ and data on investment $I_0, I_1, \\ldots,$, the the capital stock in periods $1, 2, \\ldots$ can be computed iteratively. To obtain $K_0$, the method assumes that the economy is in  a steady state in the initial year. Recall that in the steady state:\n",
                "\n",
                "\\begin{align}\n",
                "I & = \\delta K\n",
                "\\end{align}\n",
                "\n",
                "So, set $K_0 = \\delta^{-1} I_0$.\n",
                "\n",
                "Steps:\n",
                "\n",
                "1. Obtain real investment data (https://fred.stlouisfed.org/series/GPDICA)\n",
                "2. Select a value for the depreciation rate $\\delta$. 0.1 is a standard choice.\n",
                "3. Initialize an array of zeros (or an empty array) to store capital values\n",
                "4. Set the first value of the captial array equal to the $\\delta^{-1} I_0$\n",
                "5. Iterate over the values in the investment data to compute the remaining values of capital.\n",
                "\n",
                "Read Timothy Kehoe's notes (http://users.econ.umn.edu/~tkehoe/classes/GrowthAccountingNotes.pdf) for more background on the perpetual inventory method if you're interested."
            ]
        },
        {
            "cell_type": "code",
            "execution_count": null,
            "metadata": {},
            "outputs": [],
            "source": [
                "# Import real investment data from FRED into a DataFrame called 'data' (PROVIDED)\n",
                "data = pd.read_csv('https://fred.stlouisfed.org/data/GPDICA.txt',sep='\\s+',skiprows=13,index_col=0,parse_dates=True)\n",
                "\n",
                "# Set the columns attribute of data to ['Investment']\n",
                "\n",
                "\n",
                "# Set the index.name attribute of data to 'Date' (i.e., data.index.name)\n",
                "\n",
                "\n",
                "# Create a variable called 'delta' that stores the value for delta as 0.1\n",
                "\n",
                "\n",
                "# Create a variable called 'capital' equal to an array of zeros with the same length as the variable 'data'\n",
                "\n",
                "\n",
                "# Set the initial value of the 'capital' variable equal to the initial value of investment divided by delta\n",
                "\n",
                "\n",
                "# Iterate (i.e., use a for loop) over t in range(len(capital)-1) to construct values in the capital array\n",
                "\n",
                "\n",
                "",
                "# Add a 'Capital' column to data\n",
                "\n",
                "\n",
                "# Divide data by 1000 so that the values are in units are in trillions of $ (instead of billions)\n",
                "\n",
                "\n",
                "# Print the first 5 rows of data\n"
            ]
        },
        {
            "cell_type": "markdown",
            "metadata": {},
            "source": [
                "Now construct a figure that contains a plot of capital in the top panel and investment in the bottom panel.\n",
                "\n",
                "1. The figure should have dimensions $12\\times 8$.\n",
                "2. Y-axis labels for investment and capital should both be \"trillions of chained dollars\"\n",
                "3. Each axis should have an appropriate title."
            ]
        },
        {
            "cell_type": "code",
            "execution_count": null,
            "metadata": {},
            "outputs": [],
            "source": [
                "# Create figure\n",
                "\n",
                "\n",
                "# Construct the plot of capital\n",
                "\n",
                "\n",
                "",
                "",
                "",
                "",
                "# Construct the plot of investment\n",
                "\n",
                "\n",
                "",
                "",
                "",
                "",
                "",
                "# Use fig.tight_layout() to adjust whitespace\n"
            ]
        },
        {
            "cell_type": "markdown",
            "metadata": {},
            "source": [
                "**Question**\n",
                "\n",
                "1. Why does the computed capital series fluctuate less than the investment data?\n",
                "2. Given that there are about 325 million people in the US, does the computed value of capital in the last year look large, small, or about right on a per capita basis?"
            ]
        },
        {
            "cell_type": "markdown",
            "metadata": {},
            "source": [
                "**Answer**\n",
                "\n",
                "1.  \n\n",
                "2.  "
            ]
        }
    ],
    "metadata": {
        "kernelspec": {
            "display_name": "Python 3",
            "language": "python",
            "name": "python3"
        },
        "language_info": {
            "codemirror_mode": {
                "name": "ipython",
                "version": 3
            },
            "file_extension": ".py",
            "mimetype": "text/x-python",
            "name": "python",
            "nbconvert_exporter": "python",
            "pygments_lexer": "ipython3",
            "version": "3.8.5"
        }
    },
    "nbformat": 4,
    "nbformat_minor": 2
}