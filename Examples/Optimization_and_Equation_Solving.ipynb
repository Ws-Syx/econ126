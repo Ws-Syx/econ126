{
 "cells": [
  {
   "cell_type": "code",
   "execution_count": 1,
   "metadata": {},
   "outputs": [],
   "source": [
    "import numpy as np\n",
    "import matplotlib.pyplot as plt"
   ]
  },
  {
   "cell_type": "markdown",
   "metadata": {},
   "source": [
    "# More on Numeric Optimization\n",
    "\n",
    "Recall that in homework 2, in one problem you were asked to maximize the following function:\n",
    "    \n",
    "\\begin{align}\n",
    "f(x) & = -7x^2 + 930x + 30\n",
    "\\end{align}\n",
    "    \n",
    "Using calculus, you found that $x^* = 930/14=66.42857$ maximizes $f$. You also used a brute force method to find $x^*$ that involved computing $f$ over a grid of $x$ values. That approach works but is inefficient.\n",
    "\n",
    "An alternative would be to use an optimizaton algorithm that takes an initial guess and proceeds in a deliberate way. The `fmin` function from `scipy.optimize` executes such an algorithm. `fmin` takes as arguments a *function* and an ititial guess. It iterates, computing updates to the initial guess until the function appears to be close to a *minimum*. It's standard for optimization routines to minimize functions. If you want to maximize a function, supply the negative of the desired function to `fmin`.\n",
    "\n",
    "## Example using `fmin`\n",
    "\n",
    "Let's use `fmin` to solve the problem from Homework 2. First, import `fmin`."
   ]
  },
  {
   "cell_type": "code",
   "execution_count": 2,
   "metadata": {},
   "outputs": [],
   "source": [
    "from scipy.optimize import fmin"
   ]
  },
  {
   "cell_type": "markdown",
   "metadata": {},
   "source": [
    "Next, define a function that returns $-(-7x^2 + 930x + 30)$. We'll talk in class later about how to do this."
   ]
  },
  {
   "cell_type": "code",
   "execution_count": 3,
   "metadata": {},
   "outputs": [],
   "source": [
    "def quadratic(x):\n",
    "    return -(-7*x**2 + 930*x + 30)"
   ]
  },
  {
   "cell_type": "markdown",
   "metadata": {},
   "source": [
    "Now call `fmin`. We know that the exact solution, but let's guess something kind of far off. Like $x_0 = 10$."
   ]
  },
  {
   "cell_type": "code",
   "execution_count": 4,
   "metadata": {},
   "outputs": [
    {
     "name": "stdout",
     "output_type": "stream",
     "text": [
      "Optimization terminated successfully.\n",
      "         Current function value: -30919.285714\n",
      "         Iterations: 26\n",
      "         Function evaluations: 52\n",
      "\n",
      "fmin solution:  66.4285888671875\n",
      "exact solution: 66.42857142857143\n"
     ]
    }
   ],
   "source": [
    "x_star = fmin(quadratic,x0=10)\n",
    "\n",
    "print()\n",
    "print('fmin solution: ',x_star[0])\n",
    "print('exact solution:',930/14)"
   ]
  },
  {
   "cell_type": "markdown",
   "metadata": {},
   "source": [
    "`fmin` iterated 26 times and evaluated the function $f$ only 52 times. The solution is accurate to 4 digits. The same accuracy in the assignment would be obtained by setting the step to 0.00001 in constructing `x`.Wtih min and max values of 0 and 100, `x` would have 10,000,000 elements implying that the funciton $f$ would have to be evaluated that many times. Greater accuracy would imply ever larger numbers of function evaluations.\n",
    "\n",
    "To get a sense of the iterative process that `fmin` uses, we can request that the function return the value of $x$ at each iteration using the argument `retall=True`."
   ]
  },
  {
   "cell_type": "code",
   "execution_count": 5,
   "metadata": {},
   "outputs": [
    {
     "name": "stdout",
     "output_type": "stream",
     "text": [
      "Optimization terminated successfully.\n",
      "         Current function value: -30919.285714\n",
      "         Iterations: 26\n",
      "         Function evaluations: 52\n",
      "\n",
      "fmin solution:  66.4285888671875\n",
      "exact solution: 66.42857142857143\n"
     ]
    }
   ],
   "source": [
    "x_star, x_values = fmin(quadratic,x0=10,retall=True)\n",
    "\n",
    "print()\n",
    "print('fmin solution: ',x_star[0])\n",
    "print('exact solution:',930/14)"
   ]
  },
  {
   "cell_type": "markdown",
   "metadata": {},
   "source": [
    "We can plot the iterated values to see how the routine converges."
   ]
  },
  {
   "cell_type": "code",
   "execution_count": 6,
   "metadata": {},
   "outputs": [
    {
     "data": {
      "text/plain": [
       "<matplotlib.legend.Legend at 0x11408ba90>"
      ]
     },
     "execution_count": 6,
     "metadata": {},
     "output_type": "execute_result"
    },
    {
     "data": {
      "image/png": "[encoded data removed]",
      "text/plain": [
       "<Figure size 432x288 with 1 Axes>"
      ]
     },
     "metadata": {
      "needs_background": "light"
     },
     "output_type": "display_data"
    }
   ],
   "source": [
    "fig = plt.figure()\n",
    "ax = fig.add_subplot(1,1,1)\n",
    "ax.set_xlabel('Iteration of fmin')\n",
    "ax.set_ylabel('x')\n",
    "ax.plot(x_values,label=\"Computed by fmin\")\n",
    "ax.plot(np.zeros(len(x_values))+930/14,'--',label=\"True $x^*$\")\n",
    "ax.legend(loc='center left', bbox_to_anchor=(1, 0.5))"
   ]
  },
  {
   "cell_type": "markdown",
   "metadata": {},
   "source": [
    "Accuracy of the `fmin` result can be improved by reducing the `xtol` and `ftol` arguments. These arguments specify the required maximum magnitide between iterations of $x$ and $f$ that is acceptable for algorithm convergence. Both default to 0.0001.\n",
    "\n",
    "Let's try `xtol=1e-7`."
   ]
  },
  {
   "cell_type": "code",
   "execution_count": 7,
   "metadata": {},
   "outputs": [
    {
     "name": "stdout",
     "output_type": "stream",
     "text": [
      "Optimization terminated successfully.\n",
      "         Current function value: -30919.285714\n",
      "         Iterations: 36\n",
      "         Function evaluations: 75\n"
     ]
    },
    {
     "data": {
      "text/plain": [
       "array([66.42857122])"
      ]
     },
     "execution_count": 7,
     "metadata": {},
     "output_type": "execute_result"
    }
   ],
   "source": [
    "fmin(quadratic,x0=10,xtol=1e-7)"
   ]
  },
  {
   "cell_type": "markdown",
   "metadata": {},
   "source": [
    "The result is accurate to an additional decimal place. Greater accuracy will be hard to achieve with `fmin` because the function is large in absolute value at the maximum. We can improve accuracy by scaling the function by 1/30,000."
   ]
  },
  {
   "cell_type": "code",
   "execution_count": 8,
   "metadata": {},
   "outputs": [
    {
     "name": "stdout",
     "output_type": "stream",
     "text": [
      "Optimization terminated successfully.\n",
      "         Current function value: -1.030643\n",
      "         Iterations: 26\n",
      "         Function evaluations: 54\n",
      "\n",
      "fmin solution:  66.42857142857143\n",
      "exact solution: 66.42857142857143\n"
     ]
    }
   ],
   "source": [
    "def quadratic_2(x):\n",
    "    return -(-7*(x)**2 + 930*(x) + 30)/30000\n",
    "\n",
    "x_star = fmin(quadratic_2,x0=930/14,xtol=1e-7)\n",
    "print()\n",
    "print('fmin solution: ',x_star[0])\n",
    "print('exact solution:',930/14)"
   ]
  },
  {
   "cell_type": "markdown",
   "metadata": {},
   "source": [
    "Now the computed solution is accurate to 14 decimal places."
   ]
  },
  {
   "cell_type": "markdown",
   "metadata": {},
   "source": [
    "## Another example"
   ]
  },
  {
   "cell_type": "markdown",
   "metadata": {},
   "source": [
    "Consider the polynomial function:\n",
    "\n",
    "\\begin{align}\n",
    "f(x) & = -\\frac{(x-1)(x-2)(x-7)(x-9)}{200}\n",
    "\\end{align}\n",
    "\n",
    "The function has two local maxima which can be seen by plotting."
   ]
  },
  {
   "cell_type": "code",
   "execution_count": 9,
   "metadata": {},
   "outputs": [
    {
     "data": {
      "text/plain": [
       "[<matplotlib.lines.Line2D at 0x1016150850>]"
      ]
     },
     "execution_count": 9,
     "metadata": {},
     "output_type": "execute_result"
    },
    {
     "data": {
      "image/png": "[encoded data removed]",
      "text/plain": [
       "<Figure size 432x288 with 1 Axes>"
      ]
     },
     "metadata": {
      "needs_background": "light"
     },
     "output_type": "display_data"
    }
   ],
   "source": [
    "def polynomial(x):\n",
    "    '''Funciton for computing the NEGATIVE of the polynomial'''\n",
    "    return (x-1)*(x-2)*(x-7)*(x-9)/200\n",
    "\n",
    "fig = plt.figure()\n",
    "ax = fig.add_subplot(1,1,1)\n",
    "ax.set_xlabel('y')\n",
    "ax.set_ylabel('x')\n",
    "ax.set_title('$f(x) = -(x-1)(x-2)(x-7)(x-9)/200$')\n",
    "\n",
    "x = np.linspace(0,10,1000)\n",
    "plt.plot(x,-polynomial(x))"
   ]
  },
  {
   "cell_type": "markdown",
   "metadata": {},
   "source": [
    "Now, let's use `fmin` to compute the maximum of $f(x)$. Suppose that our initial guess is $x_0=4$."
   ]
  },
  {
   "cell_type": "code",
   "execution_count": 10,
   "metadata": {},
   "outputs": [
    {
     "name": "stdout",
     "output_type": "stream",
     "text": [
      "Optimization terminated successfully.\n",
      "         Current function value: -0.051881\n",
      "         Iterations: 18\n",
      "         Function evaluations: 36\n",
      "\n",
      "fmin solution:  1.4611328124999978\n"
     ]
    }
   ],
   "source": [
    "x_star,x_values = fmin(polynomial,x0=4,retall=True)\n",
    "\n",
    "print()\n",
    "print('fmin solution: ',x_star[0])"
   ]
  },
  {
   "cell_type": "markdown",
   "metadata": {},
   "source": [
    "The routine apparently converges on a value that is only a local maximum because the inital guess was not properly chosen. To see how `fmin` proceeded, plot the steps of the iterations on the curve:"
   ]
  },
  {
   "cell_type": "code",
   "execution_count": 11,
   "metadata": {},
   "outputs": [
    {
     "data": {
      "text/plain": [
       "<matplotlib.legend.Legend at 0x10163c1610>"
      ]
     },
     "execution_count": 11,
     "metadata": {},
     "output_type": "execute_result"
    },
    {
     "data": {
      "image/png": "[encoded data removed]",
      "text/plain": [
       "<Figure size 432x288 with 1 Axes>"
      ]
     },
     "metadata": {
      "needs_background": "light"
     },
     "output_type": "display_data"
    }
   ],
   "source": [
    "# Redefine x_values because it is a list of one-dimensional Numpy arrays. Not convenient.\n",
    "x_values = np.array(x_values).T[0]\n",
    "\n",
    "fig = plt.figure()\n",
    "ax = fig.add_subplot(1,1,1)\n",
    "ax.set_xlabel('y')\n",
    "ax.set_ylabel('x')\n",
    "ax.set_title('$f(x) = -(x-1)(x-2)(x-7)(x-9)/200$')\n",
    "\n",
    "plt.plot(x,-polynomial(x))\n",
    "plt.plot(x_values,-polynomial(x_values),'o',alpha=0.5,label='iterated values')\n",
    "ax.legend(loc='center left', bbox_to_anchor=(1, 0.5))"
   ]
  },
  {
   "cell_type": "markdown",
   "metadata": {},
   "source": [
    "`fmin` takes the intial guess and climbs the hill to the left. So apparently the ability of the routine to find the maximum depends on the quality of the initial guess. That's why plotting is important. We can see that beyond about 5.5, the function ascends to the global max. So let's guess $x_0 = 6$."
   ]
  },
  {
   "cell_type": "code",
   "execution_count": 12,
   "metadata": {},
   "outputs": [
    {
     "name": "stdout",
     "output_type": "stream",
     "text": [
      "Optimization terminated successfully.\n",
      "         Current function value: -0.214917\n",
      "         Iterations: 17\n",
      "         Function evaluations: 34\n",
      "\n",
      "fmin solution:  8.147973632812505\n"
     ]
    }
   ],
   "source": [
    "x_star,x_values = fmin(polynomial,x0=6,retall=True)\n",
    "\n",
    "print()\n",
    "print('fmin solution: ',x_star[0])"
   ]
  },
  {
   "cell_type": "code",
   "execution_count": 13,
   "metadata": {},
   "outputs": [
    {
     "data": {
      "text/plain": [
       "<matplotlib.legend.Legend at 0x101653a190>"
      ]
     },
     "execution_count": 13,
     "metadata": {},
     "output_type": "execute_result"
    },
    {
     "data": {
      "image/png": "[encoded data removed]",
      "text/plain": [
       "<Figure size 432x288 with 1 Axes>"
      ]
     },
     "metadata": {
      "needs_background": "light"
     },
     "output_type": "display_data"
    }
   ],
   "source": [
    "# Redefine x_values because it is a list of one-dimensional Numpy arrays. Not convenient.\n",
    "x_values = np.array(x_values).T[0]\n",
    "\n",
    "fig = plt.figure()\n",
    "ax = fig.add_subplot(1,1,1)\n",
    "ax.set_xlabel('y')\n",
    "ax.set_ylabel('x')\n",
    "ax.set_title('$f(x) = -(x-1)(x-2)(x-7)(x-9)/200$')\n",
    "\n",
    "plt.plot(x,-polynomial(x))\n",
    "plt.plot(x_values,-polynomial(x_values),'o',alpha=0.5,label='iterated values')\n",
    "ax.legend(loc='center left', bbox_to_anchor=(1, 0.5))"
   ]
  },
  {
   "cell_type": "markdown",
   "metadata": {},
   "source": [
    "`fmin` converges to the global maximum."
   ]
  },
  {
   "cell_type": "markdown",
   "metadata": {},
   "source": []
  },
  {
   "cell_type": "markdown",
   "metadata": {},
   "source": [
    "## Solving systems of equations\n",
    "\n",
    "A related problem to numeric optimization is finding the solutions to systems of equations. Consider the problem of mximizing utility:\n",
    "\n",
    "\\begin{align}\n",
    "U(x,1,x_2) & =  x_1^{\\alpha} x_2^{\\beta}\n",
    "\\end{align}\n",
    "\n",
    "subject to the budget constraint:\n",
    "\n",
    "\\begin{align}\n",
    "M & = p_1x_1 + p_2x_2\n",
    "\\end{align}\n",
    "\n",
    "by choosing $x_1$ and $x_2$. Solve this by constructing the Lagrangian function:\n",
    "\n",
    "\\begin{align}\n",
    "\\mathcal{L}(x_1,x_2,\\lambda) & = x_1^{\\alpha} x_2^{\\beta} + \\lambda \\left(M - p_1x_1 - p_2x_2\\right)\n",
    "\\end{align}\n",
    "\n",
    "where $\\lambda$ is the Lagrange multiplier on the constraint. The first-order conditions represent a system of equations to be solved:\n",
    "\n",
    "\\begin{align}\n",
    "\\alpha x1^{\\alpha-1} x2^{\\beta} - \\lambda p_1 & = 0\\\\\n",
    "\\beta x1^{\\alpha} x2^{\\beta-1} - \\lambda p_2 & = 0\\\\\n",
    "M - p_1x_1 - p_2 x_2 & = 0\\\\\n",
    "\\end{align}\n",
    "\n",
    "Solved by hand, you find:\n",
    "\n",
    "\\begin{align}\n",
    "x_1^* & = \\left(\\frac{\\alpha}{\\alpha+\\beta}\\right)\\frac{M}{p_1}\\\\\n",
    "x_1^* & = \\left(\\frac{\\beta}{\\alpha+\\beta}\\right)\\frac{M}{p_2}\\\\\n",
    "\\lambda^* & = \\left(\\frac{\\alpha}{p_1}\\right)^{\\alpha}\\left(\\frac{\\beta}{p_2}\\right)^{\\beta}\\left(\\frac{M}{\\alpha+\\beta}\\right)^{\\alpha+\\beta - 1}\n",
    "\\end{align}\n",
    "\n",
    "But solving this problem by hand was tedious. If we knew values for $\\alpha$, $\\beta$, $p_1$, $p_2$, and $M$, then we could use an equation solver to solve the system. The one we'll use is called `fsolve` from `scipy.optimize`.\n",
    "\n",
    "For the rest of the example, assumethe following parameter values:\n",
    "\n",
    "| $\\alpha$ | $\\beta$ | $p_1$ | $p_2$ | $M$   |\n",
    "|----------|---------|-------|-------|-------|\n",
    "| 0.25     | 0.75    | 1     |  2    |  100  |\n",
    "\n",
    "First, import `fsolve`."
   ]
  },
  {
   "cell_type": "code",
   "execution_count": 14,
   "metadata": {},
   "outputs": [],
   "source": [
    "from scipy.optimize import fsolve"
   ]
  },
  {
   "cell_type": "markdown",
   "metadata": {},
   "source": [
    "Define variables to store parameter values and compute exact solution"
   ]
  },
  {
   "cell_type": "code",
   "execution_count": 15,
   "metadata": {},
   "outputs": [],
   "source": [
    "# Parameters\n",
    "alpha = 0.25\n",
    "beta = 0.75\n",
    "p1 = 1\n",
    "p2 = 2\n",
    "m = 100\n",
    "\n",
    "# Solution\n",
    "x1_star = m/p1*alpha/(alpha+beta)\n",
    "x2_star = m/p2*beta/(alpha+beta)\n",
    "lam_star = x_star = alpha**alpha*beta**beta*p1**-alpha*p2**-beta\n",
    "\n",
    "exact_soln = np.array([x1_star,x2_star,lam_star])"
   ]
  },
  {
   "cell_type": "markdown",
   "metadata": {},
   "source": [
    "Next, define a function that returns the system of equations solved for zero. I.e., when the solution is input into the function, it return an array of zeros."
   ]
  },
  {
   "cell_type": "code",
   "execution_count": 16,
   "metadata": {},
   "outputs": [],
   "source": [
    "def system(x):\n",
    "    \n",
    "    x1,x2,lam = x\n",
    "    \n",
    "    retval = np.zeros(3)\n",
    "\n",
    "    retval[0] = alpha*x1**(alpha-1)*x2**beta - lam*p1\n",
    "    retval[1] = beta*x1**alpha*x2**(beta-1) - lam*p2\n",
    "    retval[2] = m - p1*x1 - p2*x2\n",
    "    \n",
    "    return retval"
   ]
  },
  {
   "cell_type": "markdown",
   "metadata": {},
   "source": [
    "Solve the system with `fsolve`. Set initial guess for $x_1$, $x_2$, and $\\lambda$ to 1, 1, and 1."
   ]
  },
  {
   "cell_type": "code",
   "execution_count": 17,
   "metadata": {},
   "outputs": [
    {
     "name": "stdout",
     "output_type": "stream",
     "text": [
      "Approximated solution: [25.         37.5         0.33885075]\n",
      "Exact solution:       [25.         37.5         0.33885075]\n"
     ]
    }
   ],
   "source": [
    "approx_soln = fsolve(system,x0=[1,1,1])\n",
    "\n",
    "print('Approximated solution:',approx_soln)\n",
    "print('Exact solution:      ',exact_soln)"
   ]
  },
  {
   "cell_type": "markdown",
   "metadata": {},
   "source": [
    "Apparently the solution form fsolve is highly accurate. However, we can (and should) verify that original system is in fact equal to zero at the values returned by `fsolve`. Use `np.isclose` to test."
   ]
  },
  {
   "cell_type": "code",
   "execution_count": 18,
   "metadata": {},
   "outputs": [
    {
     "data": {
      "text/plain": [
       "array([ True,  True,  True])"
      ]
     },
     "execution_count": 18,
     "metadata": {},
     "output_type": "execute_result"
    }
   ],
   "source": [
    "np.isclose(system(approx_soln),0)"
   ]
  },
  {
   "cell_type": "markdown",
   "metadata": {},
   "source": [
    "Note that like `fmin`, the results of `fsolve` are sensitive to the intial guess. Suppose we guess 1000 for $x_1$ and $x_2$."
   ]
  },
  {
   "cell_type": "code",
   "execution_count": 19,
   "metadata": {},
   "outputs": [
    {
     "name": "stderr",
     "output_type": "stream",
     "text": [
      "/Users/bcjenkin/opt/anaconda3/lib/python3.7/site-packages/ipykernel_launcher.py:7: RuntimeWarning: invalid value encountered in double_scalars\n",
      "  import sys\n",
      "/Users/bcjenkin/opt/anaconda3/lib/python3.7/site-packages/ipykernel_launcher.py:8: RuntimeWarning: invalid value encountered in double_scalars\n",
      "  \n",
      "/Users/bcjenkin/opt/anaconda3/lib/python3.7/site-packages/scipy/optimize/minpack.py:162: RuntimeWarning: The iteration is not making good progress, as measured by the \n",
      "  improvement from the last ten iterations.\n",
      "  warnings.warn(msg, RuntimeWarning)\n"
     ]
    },
    {
     "data": {
      "text/plain": [
       "array([1000., 1000.,    1.])"
      ]
     },
     "execution_count": 19,
     "metadata": {},
     "output_type": "execute_result"
    }
   ],
   "source": [
    "approx_soln = fsolve(system,x0=[1000,1000,1])\n",
    "\n",
    "approx_soln"
   ]
  },
  {
   "cell_type": "markdown",
   "metadata": {},
   "source": [
    "The routine does not converge on the solution. The lesson is that with numerical routines for optimization and equation solving, you have to use juedgment in setting initial guesses and it helps to think carefully about the problem that you are solving beforehand."
   ]
  }
 ],
 "metadata": {
  "kernelspec": {
   "display_name": "Python 3",
   "language": "python",
   "name": "python3"
  },
  "language_info": {
   "codemirror_mode": {
    "name": "ipython",
    "version": 3
   },
   "file_extension": ".py",
   "mimetype": "text/x-python",
   "name": "python",
   "nbconvert_exporter": "python",
   "pygments_lexer": "ipython3",
   "version": "3.7.4"
  }
 },
 "nbformat": 4,
 "nbformat_minor": 2
}
