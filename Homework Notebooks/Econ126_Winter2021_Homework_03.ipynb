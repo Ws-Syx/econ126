{
 "cells": [
  {
   "cell_type": "code",
   "execution_count": null,
   "metadata": {},
   "outputs": [],
   "source": [
    "import numpy as np\n",
    "import pandas as pd\n",
    "import statsmodels.api as sm\n",
    "import matplotlib.pyplot as plt\n",
    "plt.style.use('classic')\n",
    "%matplotlib inline"
   ]
  },
  {
   "cell_type": "markdown",
   "metadata": {},
   "source": [
    "# Homework 3\n",
    "\n",
    "**Instructions:** Complete the notebook below. Download the completed notebook in HTML format. Upload assignment using Canvas.\n",
    "\n",
    "**Due:** Jan. 26 at **2pm**."
   ]
  },
  {
   "cell_type": "markdown",
   "metadata": {},
   "source": [
    "## Exercise: Income and Growth Across Countries\n",
    "\n",
    "The data file `cross_country_gdp_pc.csv` contains annual data on GDP per capita for over 100 countries and is available here: https://github.com/letsgoexploring/econ126/raw/master/Data/Csv/cross_country_gdp_pc.csv. The data are was constructed from the Penn World Table (https://www.rug.nl/ggdc/productivity/pwt/).\n",
    "\n",
    "In this exercise, you will:\n",
    "\n",
    "1. Analyze some basic facts about GDP per capita across the world.\n",
    "2. Compute the average annual growth rate of GDP per capita for each country in the data.\n",
    "3. Compute a linear regression of average GDP per capita growth on GDP per capita in the initial year.\n",
    "\n",
    "Follow the instructions in the following cells."
   ]
  },
  {
   "cell_type": "markdown",
   "metadata": {},
   "source": [
    "### Part (a)"
   ]
  },
  {
   "cell_type": "code",
   "execution_count": null,
   "metadata": {
    "scrolled": true
   },
   "outputs": [],
   "source": [
    "# Create a vhttp://localhost:8889/notebooks/Homework%20Notebooks/Econ126_Winter2021_Homework_03.ipynb#Part-(a)ariable called 'data' that stores the data in the file 'cross_country_gdp_pc.csv' in a DataFrame\n",
    "# Make sure that 'Year', the left-most column of the data, is set to be the index column\n",
    "data = pd.read_csv('https://github.com/letsgoexploring/econ126/raw/master/Data/Csv/cross_country_gdp_pc.csv',index_col=0,parse_dates = True)\n",
    "\n",
    "# Print the first 5 rows of data\n",
    "data.head()"
   ]
  },
  {
   "cell_type": "code",
   "execution_count": null,
   "metadata": {},
   "outputs": [],
   "source": [
    "data['Algeria - DZA']"
   ]
  },
  {
   "cell_type": "code",
   "execution_count": null,
   "metadata": {},
   "outputs": [],
   "source": [
    "# Each column contains data for a specific country. Print the number of countries (e.g., the length of data.columns)\n",
    "print(\"Number of countries: \",len(data.columns))"
   ]
  },
  {
   "cell_type": "code",
   "execution_count": null,
   "metadata": {},
   "outputs": [],
   "source": [
    "# Each column contains data for a specific year. Print the number of years (e.g., the length of data.index)\n",
    "print(\"Number of years of observations: \",len(data.index))"
   ]
  },
  {
   "cell_type": "code",
   "execution_count": null,
   "metadata": {},
   "outputs": [],
   "source": [
    "# Print the values of the initial year and the final year in the data\n",
    "print(\"Initial year: \",data.index[0])\n",
    "print(\"Final year:   \",data.index[-1])"
   ]
  },
  {
   "cell_type": "code",
   "execution_count": null,
   "metadata": {},
   "outputs": [],
   "source": [
    "# Create a variable called 'data_initial' that is equal to the first row of the data DataFrame\n",
    "data_initial = data.iloc[0]\n",
    "\n",
    "# Create a variable called 'data_final' that is equal to the last row of the data DataFrame\n",
    "data_final = data.iloc[-1]"
   ]
  },
  {
   "cell_type": "code",
   "execution_count": null,
   "metadata": {
    "scrolled": false
   },
   "outputs": [],
   "source": [
    "# Use the sort_values() method of data_initial to sort the Series in ascending order.\n",
    "data_initial=data_initial.sort_values()\n",
    "\n",
    "# Print the name and GDP per capita of the countries with the 10 lowest GDPs per capita in the initial year of the data\n",
    "print('Countries with lowest GDP per capita in '+str(data.index[0])+':\\n')\n",
    "print(data_initial.head(10))"
   ]
  },
  {
   "cell_type": "code",
   "execution_count": null,
   "metadata": {},
   "outputs": [],
   "source": [
    "# Use the sort_values() method of data_final to sort the Series in ascending order.\n",
    "data_final=data_final.sort_values()\n",
    "\n",
    "# Print the name and GDP per capita of the countries with the 10 lowest GDPs per capita in the final year of the data\n",
    "print('Countries with lowest GDP per capita in '+str(data.index[-1])+':\\n')\n",
    "print(data_final.head(10))"
   ]
  },
  {
   "cell_type": "code",
   "execution_count": null,
   "metadata": {},
   "outputs": [],
   "source": [
    "# Print the names of the countries that are among the 10 with lowest GDPs per capita in BOTH the initial year and \n",
    "# the final year.\n",
    "print('Countries among lowest 10 GDPs per capita in '+str(data.index[0])+' and '+str(data.index[-1])+':\\n')\n",
    "for country in data_initial.head(10).index:\n",
    "    if country in data_final.head(10).index:\n",
    "        print(country.split(\"-\")[0])"
   ]
  },
  {
   "cell_type": "code",
   "execution_count": null,
   "metadata": {},
   "outputs": [],
   "source": [
    "# Print the name and GDP per capita of the countries with the 10 highest GDPs per capita in the initial year of the data\n",
    "print('Countries with highest GDP per capita in both '+str(data.index[0])+':\\n')\n",
    "print(data_initial.tail(10))"
   ]
  },
  {
   "cell_type": "code",
   "execution_count": null,
   "metadata": {
    "scrolled": false
   },
   "outputs": [],
   "source": [
    "# Print the name and GDP per capita of the countries with the 10 highest GDPs per capita in the final year of the data\n",
    "print('Countries with highest GDP per capita in '+str(data.index[-1])+':\\n')\n",
    "print(data_final.tail(10))"
   ]
  },
  {
   "cell_type": "code",
   "execution_count": null,
   "metadata": {
    "scrolled": true
   },
   "outputs": [],
   "source": [
    "# Print the names of the countries that are among the 10 with highest GDPs per capita in BOTH the initial year\n",
    "# and the final year\n",
    "print('Countries among highest 10 GDPs per capita in both '+str(data.index[0])+' and '+str(data.index[-1])+':\\n')\n",
    "for country in data_initial.tail(10).index:\n",
    "    if country in data_final.tail(10).index:\n",
    "        print(country.split(\"-\")[0])"
   ]
  },
  {
   "cell_type": "markdown",
   "metadata": {},
   "source": [
    "### Part (b)\n",
    "\n",
    "Let $y_t$ denotes GDP per capita for some country in some year $t$ and let $g$ denotes the average annual growth in GDP per capita between years 0 and $T$. $g$ is defined by:\n",
    "\\begin{align}\n",
    "y_T & = (1+g)^T y_0\n",
    "\\end{align}\n",
    "which implies:\n",
    "\\begin{align}\n",
    "g & = \\left(\\frac{y_T}{y_0}\\right)^{1/T} - 1\n",
    "\\end{align}\n",
    "We can use this equation to compute the aveage growth rate of GDP per capita for each country in our data. Note that for our data, $T$ is equal to `len(data.index)-1`."
   ]
  },
  {
   "cell_type": "code",
   "execution_count": null,
   "metadata": {},
   "outputs": [],
   "source": [
    "# Create a variable called 'growth_rates' that contains the average growth rate of each country in the data.\n",
    "# NOTE: You do not need to re-sort the variables data_initial and data_final. If their indices don't align,\n",
    "# Pandas will automatically sort their indices alphabetically.\n",
    "T = len(data.index)-1\n",
    "growth_rates = (data_final/data_initial)**(1/T)-1\n",
    "\n",
    "# Use the sort_values() method of growth_rates to sort the Series in ascending order.\n",
    "growth_rates=growth_rates.sort_values()"
   ]
  },
  {
   "cell_type": "code",
   "execution_count": null,
   "metadata": {},
   "outputs": [],
   "source": [
    "# Print the average growth rate of GDP per capita for all countries rounded to 4 decimal places\n",
    "print('Average growth rate of GDP per capita for all countries: ',round(growth_rates.mean(),4))"
   ]
  },
  {
   "cell_type": "code",
   "execution_count": null,
   "metadata": {},
   "outputs": [],
   "source": [
    "# Print the standard deviation of the growth rate of GDP per capita for all countries rounded to 4 decimal places\n",
    "print('Standard deviation of the growth rate of GDP per capita for all countries: ',round(growth_rates.std(),4))"
   ]
  },
  {
   "cell_type": "code",
   "execution_count": null,
   "metadata": {},
   "outputs": [],
   "source": [
    "# Print the name and growth rates of the countries with the 10 lowest growth rates of GDP per capita\n",
    "print('Countries with lowest growth rates of GDP per capita:\\n')\n",
    "print(growth_rates.head(10))"
   ]
  },
  {
   "cell_type": "code",
   "execution_count": null,
   "metadata": {},
   "outputs": [],
   "source": [
    "# Print the name and growth rates of the countries with the 10 highest growth rates of GDP per capita\n",
    "print('Countries with highest growth rates of GDP per capita:\\n')\n",
    "print(growth_rates.tail(10))"
   ]
  },
  {
   "cell_type": "code",
   "execution_count": null,
   "metadata": {},
   "outputs": [],
   "source": [
    "# Print the names of the countries that were BOTH among the 10 with lowest GDPs per capita in the initial year and \n",
    "# among the 10 with the highest growth of GDP per capita.\n",
    "print('Countries among highest 10 GDPs per capita in both '+str(data.index[0])+' and '+str(data.index[-1])+':\\n')\n",
    "for country in growth_rates.tail(10).index:\n",
    "    if country in data_initial.head(10).index:\n",
    "        print(country.split(\"-\")[0])"
   ]
  },
  {
   "cell_type": "code",
   "execution_count": null,
   "metadata": {},
   "outputs": [],
   "source": [
    "# Use the sort_index() method of data_initial to alphabetize the index [e.g., data_initial = data_initial.sort_index()]\n",
    "data_initial = data_initial.sort_index()\n",
    "\n",
    "# Use the sort_index() method of growth_rates to alphabetize the index\n",
    "growth_rates = growth_rates.sort_index()\n",
    "\n",
    "# Construct a scatter plot with:\n",
    "#     1. GDP per capita in the initial year on the horizontal axis\n",
    "#     2. Average growth rate of GDP per capita on the vertical axis\n",
    "#     3. Size of scatter plot markers at least 50\n",
    "#     4. Opacity of scatter plot markers no greater than 0.5\n",
    "#     5. x-axis limit: [0,20000]\n",
    "#     6. Suitable title and labels for the axes\n",
    "\n",
    "fig = plt.figure()\n",
    "ax = fig.add_subplot(1,1,1)\n",
    "ax.scatter(data_initial,growth_rates,s=100,alpha=0.2)\n",
    "ax.set_title('Income versus Growth for '+str(len(data.columns))+' Countries')\n",
    "ax.set_xlabel('GDP per capita in '+str(data.index[0])+'\\n(Thousands of $)')\n",
    "ax.set_ylabel('Growth rate of GDP per capita\\nfrom '+str(data.index[0])+' to '+str(data.index[-1]))\n",
    "ax.set_xlim([0,20000])\n",
    "ax.grid()"
   ]
  },
  {
   "cell_type": "markdown",
   "metadata": {},
   "source": [
    "**Question**\n",
    "\n",
    "1. Describe in words the relationship between GDP per capita in the initial year and average growth of GDP per capita. How is the relationship different for low income countries and high income countries?"
   ]
  },
  {
   "cell_type": "markdown",
   "metadata": {},
   "source": [
    "**Answer**\n",
    "\n",
    "1. There is a right-pointing triangle-shaped relationship between GDP per capita in the initial year and average growth of GDP per capita. Countries with high GDP per capita in the initial year had average growth rates that were almost uniformly close to the world average of about 2 percent. Countries with lower GDP per capita in the initial year had much more variation across the average growth rates of their GDP per capita. The countries with the highest growth rates of GDP per capita were among the lowest income initially and the countries with the lowest growth rates of GDP per capita were also among the lowest income initially.<!-- answer -->"
   ]
  },
  {
   "cell_type": "markdown",
   "metadata": {},
   "source": [
    "### Part (c)\n",
    "\n",
    "In this part you will use OLS to estimate the relationship between GDP per capita in the initial year and average growth of GDP per capita.\n",
    "\n",
    "\\begin{align}\n",
    "g_i & = \\beta_0 + \\beta_{\\text{1}}y_i + \\epsilon_i,\n",
    "\\end{align}\n",
    "\n",
    "where $g_i$ is the average annual growth rate of country $i$, $y_i$ is country $i$'s initial GDP per capita, and $\\epsilon_i$ is the residual of the regression."
   ]
  },
  {
   "cell_type": "code",
   "execution_count": null,
   "metadata": {},
   "outputs": [],
   "source": [
    "growth_rates = growth_rates.sort_index()\n",
    "data_initial = data_initial.sort_index()\n",
    "\n",
    "\n",
    "# Create a variable called 'y' that is equal to the average growth rates of the countries\n",
    "y = growth_rates\n",
    "\n",
    "# Create a variable called x' that is equal to the GDP per capita of the countries in the initial year\n",
    "x = data_initial\n",
    "\n",
    "# Use the Statsmodels function add_constant() to add a constant column to the variable x\n",
    "x = sm.add_constant(data_initial)\n",
    "\n",
    "# Create a variable called 'model' equal to the output of the Statsmodels OLS function regressing y upon x\n",
    "model = sm.OLS(y,x)\n",
    "\n",
    "# Create a variable called 'results' that stores the fitted model (i.e., the output of the fit() method of model)\n",
    "results = model.fit()\n",
    "\n",
    "# Print the summary of results generated by the summary() method of results\n",
    "print(results.summary2())"
   ]
  },
  {
   "cell_type": "markdown",
   "metadata": {},
   "source": [
    "**Questions**\n",
    "\n",
    "1. Interpret the estimate for the coefficient on $y_i$.\n",
    "2. Interpret the estimate for the constant. Where did we see this number earlier?\n",
    "3. Interpret the R-squared of the regression."
   ]
  },
  {
   "cell_type": "markdown",
   "metadata": {},
   "source": [
    "**Answers**\n",
    "\n",
    "1. The estimated coefficient on $y_i$ is both very close to zero and is not statistically different from zero.<!-- answer -->\n",
    "2. The estimated constant is equal to the average growth rate of GDP per capita across all countries and we computed that in the second code cell of Part (b).<!-- answer -->\n",
    "3. The R-squared implies that the linear regression model explains essentially zero percent of the variation in average GDP per capita growth across countries.<!-- answer -->"
   ]
  },
  {
   "cell_type": "markdown",
   "metadata": {},
   "source": [
    "## Exercise: Income and Growth Across US States\n",
    "\n",
    "The data file `state_income_data.csv` contains annual data on income per capita for the 48 continental states, Washington D.C., and the United States as a whole and is available here: https://raw.githubusercontent.com/letsgoexploring/economic-data/master/us-convergence/csv/state_income_data.csv. \n",
    "\n",
    "In this exercise, you will:\n",
    "\n",
    "1. Analyze some basic facts about income per capita among US states.\n",
    "2. Compute the average annual growth rate of income per capita for each state in the data.\n",
    "3. Compute a linear regression of average income per capita growth on income per capita in the initial year.\n",
    "\n",
    "Follow the instructions in the following cells."
   ]
  },
  {
   "cell_type": "markdown",
   "metadata": {},
   "source": [
    "### Part (a)"
   ]
  },
  {
   "cell_type": "code",
   "execution_count": null,
   "metadata": {},
   "outputs": [],
   "source": [
    "# Create a variable called 'state_df' that stores the data in the file 'cross_country_gdp_pc.csv' in a DataFrame\n",
    "# Make sure that 'Year', the left-most column of the data, is set to be the index column\n",
    "state_df= pd.read_csv('https://raw.githubusercontent.com/letsgoexploring/economic-data/master/us-convergence/csv/state_income_data.csv',index_col=0)\n",
    "\n",
    "# Print the first 5 rows of data\n",
    "print(state_df.head())"
   ]
  },
  {
   "cell_type": "markdown",
   "metadata": {},
   "source": [
    "The DataFrame method `dropna()` returns a DataFrame that omits rows that contain missing (NaN means *not a number*) values. The following command will remove the rows with missing values from the DataFrame `df`:\n",
    "\n",
    "    df =  df.dropna()\n",
    "    \n",
    "The DataFrame method `drop()` returns a DataFrame that omits rows or columns with a given label. The following command will remove the column named `'LABEL'` from the DataFrame `df`:   \n",
    "   \n",
    "    df = df.drop('LABEL',axis=1)\n",
    "    \n",
    "The argument `axis=1` means to look among the columns for `'LABEL'`. If we had wanted to remove a row with the index value `'LABEL'`, then the axis argument would have been: `axis=0`."
   ]
  },
  {
   "cell_type": "code",
   "execution_count": null,
   "metadata": {},
   "outputs": [],
   "source": [
    "# Remove the rows with missing data from state_df\n",
    "state_df = state_df.dropna()\n",
    "\n",
    "# Remove the column named 'United States' from state_df\n",
    "state_df = state_df.drop('United States',axis=1)\n",
    "\n",
    "# Set state_df equal to itself divided by 1000 so that its units are in thousands of dollars\n",
    "state_df = state_df/1000\n",
    "\n",
    "# Print the first 5 rows of data\n",
    "print(state_df.head())"
   ]
  },
  {
   "cell_type": "code",
   "execution_count": null,
   "metadata": {},
   "outputs": [],
   "source": [
    "# Create a variable called 'state_growth_rates' that contains the average growth rate of each state in the data.\n",
    "T = len(state_df)-1\n",
    "state_growth_rates = (state_df.iloc[-1]/state_df.iloc[0])**(1/T)-1"
   ]
  },
  {
   "cell_type": "code",
   "execution_count": null,
   "metadata": {},
   "outputs": [],
   "source": [
    "# Construct a scatter plot with:\n",
    "#     1. Income per capita in the initial year on the horizontal axis\n",
    "#     2. Average growth rate of income per capita on the vertical axis\n",
    "#     3. Size of scatter plot markers at least 50\n",
    "#     4. Opacity of scatter plot markers no greater than 0.5\n",
    "#     5. y-axis limit: [0.015,0.035]\n",
    "#     6. Suitable title and labels for the axes\n",
    "\n",
    "fig = plt.figure()\n",
    "ax = fig.add_subplot(1,1,1)\n",
    "ax.scatter(state_df.iloc[0],state_growth_rates,s=100,alpha=0.2)\n",
    "ax.set_title('Income versus Growth for '+str(len(state_df.columns))+' States incl. DC')\n",
    "ax.set_xlabel('Income per capita in '+str(state_df.index[0])+'\\n(Thousands of $)')\n",
    "ax.set_ylabel('Growth rate of income per capita\\nfrom '+str(state_df.index[0])+' to '+str(state_df.index[-1]))\n",
    "ax.set_ylim([0.015,0.035])\n",
    "ax.grid()"
   ]
  },
  {
   "cell_type": "markdown",
   "metadata": {},
   "source": [
    "### Part (b)\n",
    "\n",
    "Like you did for the country data above, use OLS to estimate the relationship between income per capita in the initial year and average growth of income per capita.\n",
    "\n",
    "\\begin{align}\n",
    "g_i & = \\beta_0 + \\beta_{\\text{1}}y_i + \\epsilon_i,\n",
    "\\end{align}\n",
    "\n",
    "where $g_i$ is the average annual growth rate of country $i$, $y_i$ is state $i$'s initial income per capita, and $\\epsilon_i$ is the residual of the regression."
   ]
  },
  {
   "cell_type": "code",
   "execution_count": null,
   "metadata": {},
   "outputs": [],
   "source": [
    "# Create a variable called 'y' that is equal to the average growth rates of the states\n",
    "y = state_growth_rates\n",
    "\n",
    "# Create a variable called x' that is equal to the income per capita of the states in the initial year\n",
    "x = state_df.iloc[0]\n",
    "\n",
    "# Use the Statsmodels function add_constant() to add a constant column to the variable x\n",
    "x = sm.add_constant(x)\n",
    "\n",
    "# Create a variable called 'model' equal to the output of the Statsmodels OLS function regressing y upon x\n",
    "model = sm.OLS(y,x)\n",
    "\n",
    "# Create a variable called 'results' that stores the fitted model (i.e., the output of the fit() method of model)\n",
    "results = model.fit()\n",
    "\n",
    "# Print the summary of results generated by the summary() method of results\n",
    "print(results.summary2())"
   ]
  },
  {
   "cell_type": "markdown",
   "metadata": {},
   "source": [
    "**Questions**\n",
    "\n",
    "1. Interpret the estimate for the coefficient on $y_i$.\n",
    "2. Interpret the R-squared of the regression.\n",
    "3. Why do you think that initial income and average growth are so strongly correlated in the state data but not so in the country data? (If you're not sure, referesh your knowledge about the difference between *conditional* and *unconditional* convergence: https://en.wikipedia.org/wiki/Convergence_(economics)#Types_of_Convergence)"
   ]
  },
  {
   "cell_type": "markdown",
   "metadata": {},
   "source": [
    "**Answers**\n",
    "\n",
    "1. The estimated coefficient on $y_i$ implies that a \\$1,000 increase in income per captia reduces a states average growth rate of income per capita by 1.2 percent. I.e., states with lower initial income had greater income growth than higher income states. <!-- answer -->\n",
    "2. The R-squared implies that the linear regression model explains about 76 percent of the variation in average income per capita growth across states.<!-- answer -->\n",
    "3. Lower-income US states are \"economically similar\" to higher-income states in that they have the same currency, federal regulation, legal traditions, and language, and they have similar laws, poltical institutions. Therefore, it's not surprising to observe *catch-up growth* among the lower-income states. By contrast, lower-income countries are a diverse group with broad differences in policies and institutions and so it is not at all guaranteed that low income countries will enjoy catch-up growth simply by virtue of their low income. <!-- answer -->"
   ]
  }
 ],
 "metadata": {
  "kernelspec": {
   "display_name": "Python 3",
   "language": "python",
   "name": "python3"
  },
  "language_info": {
   "codemirror_mode": {
    "name": "ipython",
    "version": 3
   },
   "file_extension": ".py",
   "mimetype": "text/x-python",
   "name": "python",
   "nbconvert_exporter": "python",
   "pygments_lexer": "ipython3",
   "version": "3.8.5"
  }
 },
 "nbformat": 4,
 "nbformat_minor": 2
}
