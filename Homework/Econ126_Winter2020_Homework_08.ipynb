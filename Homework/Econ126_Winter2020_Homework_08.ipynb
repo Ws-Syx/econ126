{
 "cells": [
  {
   "cell_type": "code",
   "execution_count": 1,
   "metadata": {},
   "outputs": [],
   "source": [
    "import numpy as np\n",
    "import pandas as pd\n",
    "import linearsolve as ls\n",
    "import matplotlib.pyplot as plt\n",
    "plt.style.use('classic')\n",
    "%matplotlib inline"
   ]
  },
  {
   "cell_type": "markdown",
   "metadata": {},
   "source": [
    "# Homework 8\n",
    "\n",
    "**Instructions:** Complete the notebook below. Download the completed notebook in HTML format. Upload assignment using Canvas.\n",
    "\n",
    "**Due:** Mar. 12 at **12:30pm.**"
   ]
  },
  {
   "cell_type": "markdown",
   "metadata": {},
   "source": [
    "## Exercise: New-Keynesian Model Stochastic Simulation\n",
    "\n",
    "### Equilibrium Conditions and Paramter Values\n",
    "\n",
    "The most basic version of the New-Keynesian Model can be expressed as:\n",
    "\n",
    "\\begin{align}\n",
    "y_t & = E_t y_{t+1}  - \\left( r_{t} - \\bar{r}\\right) + g_t\\\\\n",
    "i_{t} & = r_{t} + E_t \\pi_{t+1}\\\\\n",
    "i_{t} & = \\bar{r} + \\pi^T + \\phi_{\\pi}\\big(\\pi_t - \\pi^T\\big) + \\phi_{y}\\big(y_t - \\bar{y}\\big)\\\\\n",
    "\\pi_t -\\pi^T & = \\beta \\left( E_t\\pi_{t+1} - \\pi^T\\right)  + \\kappa (y_t -\\bar{y})+ u_t,\n",
    "\\end{align}\n",
    "\n",
    "where: $y_t$ is (log) output, $r_t$ is the real interest rate, $i_t$ is the nominal interest rate, $\\pi_t$ is the rate of inflation between periods $t-1$ and $t$, $\\bar{r}$ is the long-run average real interest rate or the *natural rate of interest*, $\\beta$ is the household's subjective discount factor, and $\\pi^T$ is the central bank's inflation target. The coeffieints $\\phi_{\\pi}$ and $\\phi_{y}$ reflect the degree of intensity to which the central bank *endogenously* adjusts the nominal interest rate in response to movements in inflation and output.\n",
    "\n",
    "The variables $g_t$ and $u_t$ represent exogenous shocks to aggregate demand and inflation. They follow AR(1) processes:\n",
    "\n",
    "\\begin{align}\n",
    "g_{t+1} & = \\rho_g g_{t} + \\epsilon^g_{t+1}\\\\\n",
    "u_{t+1} & = \\rho_u u_{t} + \\epsilon^u_{t+1}\n",
    "\\end{align}\n",
    "\n",
    "### Parameter Values:\n",
    "\n",
    "You will use the following parameter values:\n",
    "\n",
    "| $\\bar{y}$ | $\\beta$ | $\\bar{r}$    | $\\kappa$ | $\\pi^T$ | $\\phi_{\\pi}$ | $\\phi_y$ | $\\rho_g$ | $\\sigma_g^2$ | $\\rho_u$ | $\\sigma_u^2$ |\n",
    "|-----------|---------|--------------|----------|---------|--------------|----------|----------|--------------|----------|--------------|\n",
    "| 0         | 0.995   | $-\\log\\beta$ | 0.1      | 0.02/4  | 1.5          | 0.5/4    | 0.5      | 0.002<sup>2</sup>         | 0.5      | 0.001<sup>2</sup>        |\n",
    "\n",
    "\n",
    "### Input Model and Solve\n",
    "\n",
    "Refer to the Notebook for the week 9 discussion section for a complete example of how to input the model and solve. "
   ]
  },
  {
   "cell_type": "code",
   "execution_count": 2,
   "metadata": {},
   "outputs": [
    {
     "ename": "TypeError",
     "evalue": "__init__() got an unexpected keyword argument 'nstates'",
     "output_type": "error",
     "traceback": [
      "\u001b[0;31m---------------------------------------------------------------------------\u001b[0m",
      "\u001b[0;31mTypeError\u001b[0m                                 Traceback (most recent call last)",
      "\u001b[0;32m<ipython-input-2-20ff06a7ae80>\u001b[0m in \u001b[0;36m<module>\u001b[0;34m\u001b[0m\n\u001b[1;32m     65\u001b[0m                  \u001b[0mvarNames\u001b[0m\u001b[0;34m=\u001b[0m\u001b[0mvarNames\u001b[0m\u001b[0;34m,\u001b[0m\u001b[0;34m\u001b[0m\u001b[0;34m\u001b[0m\u001b[0m\n\u001b[1;32m     66\u001b[0m                  \u001b[0mshockNames\u001b[0m\u001b[0;34m=\u001b[0m\u001b[0mshockNames\u001b[0m\u001b[0;34m,\u001b[0m\u001b[0;34m\u001b[0m\u001b[0;34m\u001b[0m\u001b[0m\n\u001b[0;32m---> 67\u001b[0;31m                  parameters = parameters)\n\u001b[0m\u001b[1;32m     68\u001b[0m \u001b[0;34m\u001b[0m\u001b[0m\n\u001b[1;32m     69\u001b[0m \u001b[0;34m\u001b[0m\u001b[0m\n",
      "\u001b[0;31mTypeError\u001b[0m: __init__() got an unexpected keyword argument 'nstates'"
     ]
    }
   ],
   "source": [
    "# Create a variable called 'parameters' that stores the model parameter values in a Pandas Series.\n",
    "parameters = pd.Series()\n",
    "parameters['y_bar'] = 0\n",
    "parameters['beta'] = 0.995\n",
    "parameters['r_bar'] = -np.log(parameters.beta)\n",
    "parameters['kappa'] = 0.1\n",
    "parameters['pi_T'] = 0.02/4\n",
    "parameters['phi_pi'] = 1.5\n",
    "parameters['phi_y'] = 0.5/4\n",
    "parameters['rho_g'] = 0.5\n",
    "parameters['rho_u'] = 0.5\n",
    "parameters['sigma_g_2'] = 0.002**2\n",
    "parameters['sigma_u_2'] = 0.001**2\n",
    "\n",
    "# Create variable called 'varNames' that stores the variable names in a list with state variables ordered first\n",
    "varNames = ['g','u','y','pi','i','r']\n",
    "\n",
    "# Create variable called 'shockNames' that stores an exogenous shock name for each state variable.\n",
    "shockNames = ['e_g','e_u']\n",
    "\n",
    "# Define a function that evaluates the equilibrium conditions of the model solved for zero.\n",
    "def equilibrium_equations(variables_forward,variables_current,parameters):\n",
    "    \n",
    "    # Parameters\n",
    "    p = parameters\n",
    "    \n",
    "    # Current variables\n",
    "    cur = variables_current\n",
    "    \n",
    "    # Forward variables\n",
    "    fwd = variables_forward\n",
    "\n",
    "    # IS equation\n",
    "    is_equation = fwd.y - (cur.r -p.r_bar) + cur.g - cur.y\n",
    "    \n",
    "    # Fisher_equation\n",
    "    fisher_equation = cur.r + fwd.pi - cur.i\n",
    "    \n",
    "    # Monetary policy\n",
    "    monetary_policy = p.r_bar + p.pi_T + p.phi_pi*(cur.pi - p.pi_T) + p.phi_y*cur.y - cur.i\n",
    "    \n",
    "    # Phillips curve\n",
    "    phillips_curve = p.beta*(fwd.pi- p.pi_T) + p.kappa*cur.y + cur.u - (cur.pi-p.pi_T)\n",
    "    \n",
    "    # Demand process\n",
    "    demand_process = p.rho_g*cur.g - fwd.g\n",
    "    \n",
    "    # Inflation process\n",
    "    inflation_process = p.rho_u*cur.u - fwd.u\n",
    "    \n",
    "    \n",
    "    # Stack equilibrium conditions into a numpy array\n",
    "    return np.array([\n",
    "            is_equation,\n",
    "            fisher_equation,\n",
    "            monetary_policy,\n",
    "            phillips_curve,\n",
    "            demand_process,\n",
    "            inflation_process\n",
    "        ])\n",
    "\n",
    "# Initialize the model into a variable named 'nk_model'\n",
    "nk_model = ls.model(equations = equilibrium_equations,\n",
    "                 nstates=2,\n",
    "                 varNames=varNames,\n",
    "                 shockNames=shockNames,\n",
    "                 parameters = parameters)\n",
    "\n",
    "\n",
    "# Compute the steady state numerically using .compute_ss() method of nk_model\n",
    "guess = [0,0,0,0.01,0.01,0.01]\n",
    "nk_model.compute_ss(guess)\n",
    "\n",
    "# Approximate and solve the model. Set loglinear argument to False since the model is already linear\n",
    "nk_model.approximate_and_solve(loglinear=False)"
   ]
  },
  {
   "cell_type": "markdown",
   "metadata": {},
   "source": [
    "### Stochastic Simulation\n",
    "\n",
    "Construct a stochastic simulation of the New-Keynesian model with the follwoing properties:\n",
    "\n",
    "1. 201 periods. \n",
    "2. Seed for random number generator: 126.\n",
    "\n",
    "Note that the shock covariance matrix is:\n",
    "\n",
    "\\begin{align}\n",
    "\\text{Covariance matrix} & = \\left[\\begin{array}{cc}\\sigma_g^2 & 0\\\\ 0 & \\sigma_u^2\\end{array}\\right]\n",
    "\\end{align}\n",
    "\n",
    "Use the following values for $\\sigma_g^2$ and $\\sigma_u^2$ in the simulation:\n",
    "\n",
    "| $\\sigma_g^2$      | $\\sigma_u^2$      |\n",
    "|-------------------|-------------------|\n",
    "| 0.002<sup>2</sup> | 0.001<sup>2</sup> |\n",
    "\n",
    "Refer to the Notebook for the week 7 discussion section for an example of how to use `linearsolve` to construct a stochastic simulation."
   ]
  },
  {
   "cell_type": "code",
   "execution_count": null,
   "metadata": {},
   "outputs": [],
   "source": [
    "# Compute the simulation\n",
    "nk_model.stoch_sim(T=201,seed=126,covMat=[[parameters['sigma_g_2'],0],[0,parameters['sigma_u_2']]])"
   ]
  },
  {
   "cell_type": "markdown",
   "metadata": {},
   "source": [
    "### Analyze Simulation Results\n",
    "\n",
    "Construct a plot with simulated output and inflation plotted together. Multiply simulated output by 100 and simulated inflation by 400 since, by convention, we always annualize inflation and interest rates."
   ]
  },
  {
   "cell_type": "code",
   "execution_count": null,
   "metadata": {},
   "outputs": [],
   "source": [
    "# Create a figure with dimensions 12x4. PROVIDED\n",
    "fig = plt.figure(figsize=(12,4))\n",
    "\n",
    "# Create the left axis. PROVIDED\n",
    "ax1 = fig.add_subplot(1,1,1)\n",
    "\n",
    "# Plot the simulated series for output (times 100) and inflation (times 400)\n",
    "(nk_model.simulated['y']*100).plot(ax=ax1,lw=3,alpha=0.75,grid=True)\n",
    "(nk_model.simulated['pi']*400).plot(ax=ax1,lw=3,alpha=0.75,grid=True)\n",
    "\n",
    "# Construct legend. PROVIDED\n",
    "ax1.legend(loc='center left', bbox_to_anchor=(1, 0.5))"
   ]
  },
  {
   "cell_type": "markdown",
   "metadata": {},
   "source": [
    "Compute the standard deviations of inflation $\\pi_t$ (times 400), output $y_t$ (times 100), and the nominal interest rate $i_t$ (times 400) for the simulated series."
   ]
  },
  {
   "cell_type": "code",
   "execution_count": null,
   "metadata": {},
   "outputs": [],
   "source": [
    "print('pi:',round(nk_model.simulated[['pi']].std()[0]*400,5))\n",
    "print('y: ',round(nk_model.simulated[['y']].std()[0]*100,5))\n",
    "print('i: ',round(nk_model.simulated[['i']].std()[0]*400,5))"
   ]
  },
  {
   "cell_type": "markdown",
   "metadata": {},
   "source": [
    "Compute the coefficients of correlation of inflation $\\pi_t$, output $y_t$, and the nominal interest rate $i_t$ for the simulated series."
   ]
  },
  {
   "cell_type": "code",
   "execution_count": null,
   "metadata": {},
   "outputs": [],
   "source": [
    "nk_model.simulated[['pi','y','i']].corr()"
   ]
  },
  {
   "cell_type": "markdown",
   "metadata": {},
   "source": [
    "**Questions**\n",
    "\n",
    "1. In the smulation data, which variable fluctuates more, inflation (times 400) or output (times 100)?\n",
    "2. Do the simulations suggest a positive or negative correlation between output and inflation?\n",
    "3. Note that for the simulations, it was assumed that the variances on the inflation and demand shocks were about the same. Based on the answer to your previous question, which shocks appear to have a dominant effect on the dynamics of the model?"
   ]
  },
  {
   "cell_type": "markdown",
   "metadata": {},
   "source": [
    "**Answers**\n",
    "\n",
    "1. Inflation. <!-- answer -->\n",
    "2. A negative correlation between output and inflation. <!-- answer -->\n",
    "3. It appears that the inflation shocks dominate because the model implies that output and inflation are negatively correlated following inflation shocks but positively cerrelated following demand shocks. Since both shocks are occuring simultaneously, it's apparent that the inflation shocks dominate the demand shocks. <!-- answer -->"
   ]
  }
 ],
 "metadata": {
  "kernelspec": {
   "display_name": "Python 3",
   "language": "python",
   "name": "python3"
  },
  "language_info": {
   "codemirror_mode": {
    "name": "ipython",
    "version": 3
   },
   "file_extension": ".py",
   "mimetype": "text/x-python",
   "name": "python",
   "nbconvert_exporter": "python",
   "pygments_lexer": "ipython3",
   "version": "3.7.4"
  }
 },
 "nbformat": 4,
 "nbformat_minor": 2
}
