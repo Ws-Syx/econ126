{
    "cells": [
        {
            "cell_type": "code",
            "execution_count": null,
            "metadata": {},
            "outputs": [],
            "source": [
                "import numpy as np\n",
                "import pandas as pd\n",
                "import linearsolve as ls\n",
                "import matplotlib.pyplot as plt\n",
                "plt.style.use('classic')\n",
                "%matplotlib inline"
            ]
        },
        {
            "cell_type": "markdown",
            "metadata": {},
            "source": [
                "# Homework 8\n",
                "\n",
                "**Instructions:** Complete the notebook below. Download the completed notebook in HTML format. Upload assignment using Canvas.\n",
                "\n",
                "**Due:** Mar. 12 at **12:30pm.**"
            ]
        },
        {
            "cell_type": "markdown",
            "metadata": {},
            "source": [
                "## Exercise: New-Keynesian Model Stochastic Simulation\n",
                "\n",
                "### Equilibrium Conditions and Paramter Values\n",
                "\n",
                "The most basic version of the New-Keynesian Model can be expressed as:\n",
                "\n",
                "\\begin{align}\n",
                "y_t & = E_t y_{t+1}  - \\left( r_{t} - \\bar{r}\\right) + g_t\\\\\n",
                "i_{t} & = r_{t} + E_t \\pi_{t+1}\\\\\n",
                "i_{t} & = \\bar{r} + \\pi^T + \\phi_{\\pi}\\big(\\pi_t - \\pi^T\\big) + \\phi_{y}\\big(y_t - \\bar{y}\\big)\\\\\n",
                "\\pi_t -\\pi^T & = \\beta \\left( E_t\\pi_{t+1} - \\pi^T\\right)  + \\kappa (y_t -\\bar{y})+ u_t,\n",
                "\\end{align}\n",
                "\n",
                "where: $y_t$ is (log) output, $r_t$ is the real interest rate, $i_t$ is the nominal interest rate, $\\pi_t$ is the rate of inflation between periods $t-1$ and $t$, $\\bar{r}$ is the long-run average real interest rate or the *natural rate of interest*, $\\beta$ is the household's subjective discount factor, and $\\pi^T$ is the central bank's inflation target. The coeffieints $\\phi_{\\pi}$ and $\\phi_{y}$ reflect the degree of intensity to which the central bank *endogenously* adjusts the nominal interest rate in response to movements in inflation and output.\n",
                "\n",
                "The variables $g_t$ and $u_t$ represent exogenous shocks to aggregate demand and inflation. They follow AR(1) processes:\n",
                "\n",
                "\\begin{align}\n",
                "g_{t+1} & = \\rho_g g_{t} + \\epsilon^g_{t+1}\\\\\n",
                "u_{t+1} & = \\rho_u u_{t} + \\epsilon^u_{t+1}\n",
                "\\end{align}\n",
                "\n",
                "### Parameter Values:\n",
                "\n",
                "You will use the following parameter values:\n",
                "\n",
                "| $\\bar{y}$ | $\\beta$ | $\\bar{r}$    | $\\kappa$ | $\\pi^T$ | $\\phi_{\\pi}$ | $\\phi_y$ | $\\rho_g$ | $\\sigma_g^2$ | $\\rho_u$ | $\\sigma_u^2$ |\n",
                "|-----------|---------|--------------|----------|---------|--------------|----------|----------|--------------|----------|--------------|\n",
                "| 0         | 0.995   | $-\\log\\beta$ | 0.1      | 0.02/4  | 1.5          | 0.5/4    | 0.5      | 0.002<sup>2</sup>         | 0.5      | 0.001<sup>2</sup>        |\n",
                "\n",
                "\n",
                "### Input Model and Solve\n",
                "\n",
                "Refer to the Notebook for the week 9 discussion section for a complete example of how to input the model and solve. "
            ]
        },
        {
            "cell_type": "code",
            "execution_count": null,
            "metadata": {},
            "outputs": [],
            "source": [
                "# Create a variable called 'parameters' that stores the model parameter values in a Pandas Series.\n",
                "\n",
                "\n",
                "",
                "",
                "",
                "",
                "",
                "",
                "",
                "",
                "",
                "",
                "",
                "# Create variable called 'varNames' that stores the variable names in a list with state variables ordered first\n",
                "\n",
                "\n",
                "# Create variable called 'shockNames' that stores an exogenous shock name for each state variable.\n",
                "\n",
                "\n",
                "# Define a function that evaluates the equilibrium conditions of the model solved for zero.\n",
                "\n",
                "\n",
                "    # Parameters\n",
                "\n",
                "\n",
                "    # Current variables\n",
                "\n",
                "\n",
                "    # Forward variables\n",
                "\n",
                "\n",
                "    # IS equation\n",
                "\n",
                "\n",
                "    # Fisher_equation\n",
                "\n",
                "\n",
                "    # Monetary policy\n",
                "\n",
                "\n",
                "    # Phillips curve\n",
                "\n",
                "\n",
                "    # Demand process\n",
                "\n",
                "\n",
                "    # Inflation process\n",
                "\n",
                "\n",
                "",
                "    # Stack equilibrium conditions into a numpy array\n",
                "\n",
                "\n",
                "",
                "",
                "",
                "",
                "",
                "",
                "",
                "# Initialize the model into a variable named 'nk_model'\n",
                "\n",
                "\n",
                "",
                "",
                "",
                "",
                "",
                "# Compute the steady state numerically using .compute_ss() method of nk_model\n",
                "\n",
                "\n",
                "",
                "# Approximate and solve the model. Set loglinear argument to False since the model is already linear\n"
            ]
        },
        {
            "cell_type": "markdown",
            "metadata": {},
            "source": [
                "### Stochastic Simulation\n",
                "\n",
                "Construct a stochastic simulation of the New-Keynesian model with the follwoing properties:\n",
                "\n",
                "1. 201 periods. \n",
                "2. Seed for random number generator: 126.\n",
                "\n",
                "Note that the shock covariance matrix is:\n",
                "\n",
                "\\begin{align}\n",
                "\\text{Covariance matrix} & = \\left[\\begin{array}{cc}\\sigma_g^2 & 0\\\\ 0 & \\sigma_u^2\\end{array}\\right]\n",
                "\\end{align}\n",
                "\n",
                "Use the following values for $\\sigma_g^2$ and $\\sigma_u^2$ in the simulation:\n",
                "\n",
                "| $\\sigma_g^2$      | $\\sigma_u^2$      |\n",
                "|-------------------|-------------------|\n",
                "| 0.002<sup>2</sup> | 0.001<sup>2</sup> |\n",
                "\n",
                "Refer to the Notebook for the week 7 discussion section for an example of how to use `linearsolve` to construct a stochastic simulation."
            ]
        },
        {
            "cell_type": "code",
            "execution_count": null,
            "metadata": {},
            "outputs": [],
            "source": [
                "# Compute the simulation\n"
            ]
        },
        {
            "cell_type": "markdown",
            "metadata": {},
            "source": [
                "### Analyze Simulation Results\n",
                "\n",
                "Construct a plot with simulated output and inflation plotted together. Multiply simulated output by 100 and simulated inflation by 400 since, by convention, we always annualize inflation and interest rates."
            ]
        },
        {
            "cell_type": "code",
            "execution_count": null,
            "metadata": {},
            "outputs": [],
            "source": [
                "# Create a figure with dimensions 12x4. PROVIDED\n",
                "fig = plt.figure(figsize=(12,4))\n",
                "\n",
                "# Create the left axis. PROVIDED\n",
                "ax1 = fig.add_subplot(1,1,1)\n",
                "\n",
                "# Plot the simulated series for output (times 100) and inflation (times 400)\n",
                "\n",
                "\n",
                "",
                "# Construct legend. PROVIDED\n",
                "ax1.legend(loc='center left', bbox_to_anchor=(1, 0.5))"
            ]
        },
        {
            "cell_type": "markdown",
            "metadata": {},
            "source": [
                "Compute the standard deviations of inflation $\\pi_t$ (times 400), output $y_t$ (times 100), and the nominal interest rate $i_t$ (times 400) for the simulated series."
            ]
        },
        {
            "cell_type": "code",
            "execution_count": null,
            "metadata": {},
            "outputs": [],
            "source": [
                "\n",
                "\n",
                ""
            ]
        },
        {
            "cell_type": "markdown",
            "metadata": {},
            "source": [
                "Compute the coefficients of correlation of inflation $\\pi_t$, output $y_t$, and the nominal interest rate $i_t$ for the simulated series."
            ]
        },
        {
            "cell_type": "code",
            "execution_count": null,
            "metadata": {},
            "outputs": [],
            "source": []
        },
        {
            "cell_type": "markdown",
            "metadata": {},
            "source": [
                "**Questions**\n",
                "\n",
                "1. In the smulation data, which variable fluctuates more, inflation (times 400) or output (times 100)?\n",
                "2. Do the simulations suggest a positive or negative correlation between output and inflation?\n",
                "3. Note that for the simulations, it was assumed that the variances on the inflation and demand shocks were about the same. Based on the answer to your previous question, which shocks appear to have a dominant effect on the dynamics of the model?"
            ]
        },
        {
            "cell_type": "markdown",
            "metadata": {},
            "source": [
                "**Answers**\n",
                "\n",
                "1.  \n\n",
                "2.  \n\n",
                "3.  "
            ]
        }
    ],
    "metadata": {
        "kernelspec": {
            "display_name": "Python 3",
            "language": "python",
            "name": "python3"
        },
        "language_info": {
            "codemirror_mode": {
                "name": "ipython",
                "version": 3
            },
            "file_extension": ".py",
            "mimetype": "text/x-python",
            "name": "python",
            "nbconvert_exporter": "python",
            "pygments_lexer": "ipython3",
            "version": "3.7.4"
        }
    },
    "nbformat": 4,
    "nbformat_minor": 2
}